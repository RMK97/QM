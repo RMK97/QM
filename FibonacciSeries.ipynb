{
 "cells": [
  {
   "cell_type": "code",
   "execution_count": 8,
   "metadata": {},
   "outputs": [
    {
     "name": "stdout",
     "output_type": "stream",
     "text": [
      "Enter the number of elements of the series:8\n",
      "Fibonacci series up to 8 :\n",
      "0\n",
      "1\n",
      "1\n",
      "2\n",
      "3\n",
      "5\n",
      "8\n",
      "13\n"
     ]
    }
   ],
   "source": [
    "#Fibonacci Series\n",
    "r=int(input(\"Enter the number of elements of the series:\"))\n",
    "n1=0\n",
    "n2=1\n",
    "i=2\n",
    "if (r<=0):\n",
    "    print (\"Enter a positive integer: \")\n",
    "elif (r== 1):\n",
    "\tprint (\"Fibonacci series up to\",r,\":\")\n",
    "\tprint (n1)\n",
    "else:\n",
    "\tprint (\"Fibonacci series up to\",r,\":\")\n",
    "\tprint (n1)\n",
    "\tprint (n2)\n",
    "\twhile (i<r):\n",
    "\t\tn3=n1+n2\n",
    "\t\tprint (n3)\n",
    "\t\tn1=n2\n",
    "\t\tn2=n3\n",
    "\t\ti=i+1"
   ]
  }
 ],
 "metadata": {
  "kernelspec": {
   "display_name": "Python 3",
   "language": "python",
   "name": "python3"
  },
  "language_info": {
   "codemirror_mode": {
    "name": "ipython",
    "version": 3
   },
   "file_extension": ".py",
   "mimetype": "text/x-python",
   "name": "python",
   "nbconvert_exporter": "python",
   "pygments_lexer": "ipython3",
   "version": "3.6.6"
  }
 },
 "nbformat": 4,
 "nbformat_minor": 2
}
