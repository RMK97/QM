{
 "cells": [
  {
   "cell_type": "code",
   "execution_count": 3,
   "metadata": {},
   "outputs": [
    {
     "data": {
      "text/plain": [
       "0"
      ]
     },
     "execution_count": 3,
     "metadata": {},
     "output_type": "execute_result"
    }
   ],
   "source": [
    "from sympy import *\n",
    "exp(-oo)"
   ]
  },
  {
   "cell_type": "code",
   "execution_count": 4,
   "metadata": {},
   "outputs": [
    {
     "data": {
      "text/plain": [
       "2"
      ]
     },
     "execution_count": 4,
     "metadata": {},
     "output_type": "execute_result"
    }
   ],
   "source": [
    "a=Rational(2,5)\n",
    "a*5"
   ]
  },
  {
   "cell_type": "code",
   "execution_count": 5,
   "metadata": {},
   "outputs": [
    {
     "name": "stdout",
     "output_type": "stream",
     "text": [
      "x**3 - x**2*z + 2*x**2 + x*y + x - 3\n",
      "y + 1\n",
      "(3*x**2 - 2*x - 8)/(2*x**2 - 8*x)\n"
     ]
    }
   ],
   "source": [
    "x=Symbol('x')\n",
    "y=Symbol('y')\n",
    "z=Symbol('z')\n",
    "#a+b-3*b\n",
    "#expand((a)**2,complex=True)\n",
    "factor(x**2*z + 4*x*y*z + 4*y**2*z)\n",
    "expr = x*y + x - 3 + 2*x**2 - z*x**2 + x**3\n",
    "colle=collect(expr,y)\n",
    "print(colle)\n",
    "print(colle.coeff(x,1))\n",
    "epr = 1/x + (3*x/2 - 2)/(x - 4)\n",
    "print(cancel(epr))\n",
    "\n",
    "\n",
    "\n"
   ]
  },
  {
   "cell_type": "code",
   "execution_count": 6,
   "metadata": {},
   "outputs": [
    {
     "data": {
      "text/plain": [
       "4*(tan(x + 2*y)**2 + 1)*tan(x + 2*y)"
      ]
     },
     "execution_count": 6,
     "metadata": {},
     "output_type": "execute_result"
    }
   ],
   "source": [
    "x=Symbol('x')\n",
    "y=Symbol('y')\n",
    "z=Symbol('z')\n",
    "expr = (x*y**2 - 2*x*y*z + x*z**2 + y**2 - 2*y*z + z**2)/(x**2 - 1)\n",
    "factor(expr)\n",
    "diff(tan(x+2*y),x,y)\n",
    "\n",
    "\n"
   ]
  },
  {
   "cell_type": "code",
   "execution_count": 7,
   "metadata": {},
   "outputs": [
    {
     "data": {
      "text/plain": [
       "-sin(x)/2"
      ]
     },
     "execution_count": 7,
     "metadata": {},
     "output_type": "execute_result"
    }
   ],
   "source": [
    "x=Symbol('x')\n",
    "y=Symbol('y')\n",
    "z=Symbol('z')\n",
    "h=3*x+sin(x)**2\n",
    "k=integrate(h,x)\n",
    "coll=collect(k,x)\n",
    "coll.coeff(cos(x),1)\n",
    "\n",
    "\n"
   ]
  },
  {
   "cell_type": "code",
   "execution_count": 8,
   "metadata": {},
   "outputs": [
    {
     "name": "stdout",
     "output_type": "stream",
     "text": [
      "Integral of expression= x**2*sin(x)**2/4 + x**2*cos(x)**2/4 - x*sin(x)*cos(x)/2 + sin(x)**2/4\n",
      "Derivative of expression=  2*x*sin(x)*cos(x) + sin(x)**2\n",
      "\n"
     ]
    }
   ],
   "source": [
    "from sympy import *\n",
    "x=Symbol('x')\n",
    "y=Symbol('y')\n",
    "z=Symbol('z')\n",
    "\n",
    "h=3*x+sin(x)**2\n",
    "m=x*sin(x)**2\n",
    "k=integrate(m,x)\n",
    "l=diff(m,x)\n",
    "print(\"Integral of expression=\" ,k)\n",
    "print(\"Derivative of expression= \",l)\n",
    "print()\n",
    "#k=integrate(h,x)\n",
    "#k.coeff(sin(x),1)"
   ]
  },
  {
   "cell_type": "code",
   "execution_count": 9,
   "metadata": {},
   "outputs": [
    {
     "name": "stdout",
     "output_type": "stream",
     "text": [
      "Integral of expression= a**3/3 + a**2/2 + a\n"
     ]
    }
   ],
   "source": [
    "from sympy import *\n",
    "x=Symbol('x')\n",
    "y=Symbol('y')\n",
    "a=Symbol('a')\n",
    "exp=x**2 + x + 1\n",
    "i=integrate(exp,(x,0,a))\n",
    "\n",
    "print(\"Integral of expression=\" ,i)"
   ]
  },
  {
   "cell_type": "code",
   "execution_count": 10,
   "metadata": {},
   "outputs": [
    {
     "data": {
      "text/plain": [
       "sqrt(pi)/2"
      ]
     },
     "execution_count": 10,
     "metadata": {},
     "output_type": "execute_result"
    }
   ],
   "source": [
    "from sympy import *\n",
    "x=Symbol('x')\n",
    "y=Symbol('y')\n",
    "integrate(exp(-x**2), (x,0,oo))"
   ]
  },
  {
   "cell_type": "code",
   "execution_count": null,
   "metadata": {},
   "outputs": [],
   "source": [
    "from sympy import*\n",
    "x=Symbol('x')\n",
    "y=Symbol('y')\n",
    "l=Symbol('lambda',constant=True)\n",
    "expr=(l*x**2)*exp(-2*1j*x)\n",
    "kj=integrate(expr,x)\n",
    "print(kj)"
   ]
  },
  {
   "cell_type": "code",
   "execution_count": 3,
   "metadata": {},
   "outputs": [
    {
     "name": "stdout",
     "output_type": "stream",
     "text": [
      "oo\n"
     ]
    }
   ],
   "source": [
    "from sympy import*\n",
    "x=Symbol('x')\n",
    "y=Symbol('y')\n",
    "l=Symbol('lambda',constant=True)\n",
    "expr=(x**2)*exp(-x)\n",
    "kj=integrate(expr,(x,-oo,oo))\n",
    "print(kj)"
   ]
  },
  {
   "cell_type": "code",
   "execution_count": null,
   "metadata": {},
   "outputs": [],
   "source": [
    "from sympy import*\n",
    "x=Symbol('x')\n",
    "y=Symbol('y')\n",
    "l=Symbol('lambda',constant=True)\n",
    "expr=(l*x**2)*exp(-2*1j*x)\n",
    "kj=integrate(expr,x)\n",
    "print(kj)"
   ]
  },
  {
   "cell_type": "code",
   "execution_count": 1,
   "metadata": {},
   "outputs": [
    {
     "ename": "NameError",
     "evalue": "name 'sym' is not defined",
     "output_type": "error",
     "traceback": [
      "\u001b[0;31m---------------------------------------------------------------------------\u001b[0m",
      "\u001b[0;31mNameError\u001b[0m                                 Traceback (most recent call last)",
      "\u001b[0;32m<ipython-input-1-9121d8a8b927>\u001b[0m in \u001b[0;36m<module>\u001b[0;34m\u001b[0m\n\u001b[0;32m----> 1\u001b[0;31m \u001b[0mx\u001b[0m\u001b[0;34m,\u001b[0m \u001b[0my\u001b[0m \u001b[0;34m=\u001b[0m \u001b[0msym\u001b[0m\u001b[0;34m.\u001b[0m\u001b[0msymbols\u001b[0m\u001b[0;34m(\u001b[0m\u001b[0;34m'x, y'\u001b[0m\u001b[0;34m)\u001b[0m\u001b[0;34m\u001b[0m\u001b[0m\n\u001b[0m\u001b[1;32m      2\u001b[0m \u001b[0;34m\u001b[0m\u001b[0m\n\u001b[1;32m      3\u001b[0m \u001b[0mA\u001b[0m \u001b[0;34m=\u001b[0m \u001b[0msym\u001b[0m\u001b[0;34m.\u001b[0m\u001b[0mMatrix\u001b[0m\u001b[0;34m(\u001b[0m\u001b[0;34m[\u001b[0m\u001b[0;34m[\u001b[0m\u001b[0;36m1\u001b[0m\u001b[0;34m,\u001b[0m \u001b[0mx\u001b[0m\u001b[0;34m]\u001b[0m\u001b[0;34m,\u001b[0m \u001b[0;34m[\u001b[0m\u001b[0my\u001b[0m\u001b[0;34m,\u001b[0m \u001b[0;36m1\u001b[0m\u001b[0;34m]\u001b[0m\u001b[0;34m]\u001b[0m\u001b[0;34m)\u001b[0m\u001b[0;34m\u001b[0m\u001b[0m\n\u001b[1;32m      4\u001b[0m \u001b[0;34m\u001b[0m\u001b[0m\n\u001b[1;32m      5\u001b[0m \u001b[0mA\u001b[0m\u001b[0;34m\u001b[0m\u001b[0m\n",
      "\u001b[0;31mNameError\u001b[0m: name 'sym' is not defined"
     ]
    }
   ],
   "source": [
    "x, y = sym.symbols('x, y')\n",
    "\n",
    "A = sym.Matrix([[1, x], [y, 1]])\n",
    "\n",
    "A\n"
   ]
  }
 ],
 "metadata": {
  "kernelspec": {
   "display_name": "Python 3",
   "language": "python",
   "name": "python3"
  },
  "language_info": {
   "codemirror_mode": {
    "name": "ipython",
    "version": 3
   },
   "file_extension": ".py",
   "mimetype": "text/x-python",
   "name": "python",
   "nbconvert_exporter": "python",
   "pygments_lexer": "ipython3",
   "version": "3.6.6"
  }
 },
 "nbformat": 4,
 "nbformat_minor": 2
}
