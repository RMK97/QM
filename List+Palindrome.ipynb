{
 "cells": [
  {
   "cell_type": "code",
   "execution_count": 3,
   "metadata": {},
   "outputs": [
    {
     "name": "stdout",
     "output_type": "stream",
     "text": [
      "3\n",
      "4\n",
      "5\n",
      "6\n"
     ]
    }
   ],
   "source": [
    "list=[1,2,3,4]\n",
    "for n in list:\n",
    "    print ((n*1)+2)\n",
    "    "
   ]
  },
  {
   "cell_type": "code",
   "execution_count": 44,
   "metadata": {
    "scrolled": true
   },
   "outputs": [
    {
     "name": "stdout",
     "output_type": "stream",
     "text": [
      "A\n",
      "B\n",
      "C\n",
      "D\n",
      "Loop End! Array[4] is greater than 4\n",
      "Loop End! Array[5] is greater than 4\n"
     ]
    }
   ],
   "source": [
    "array=[\"A\",\"B\",\"C\",\"D\",\"E\",\"F\"]\n",
    "n=0\n",
    "for array[n] in array:\n",
    "    if n<=3:\n",
    "        print(array[n])\n",
    "        \n",
    "    else:    \n",
    "        print(\"Loop End! Array[%d] is greater than 4\"%n)\n",
    "    n+=1\n",
    "        "
   ]
  },
  {
   "cell_type": "code",
   "execution_count": 45,
   "metadata": {},
   "outputs": [
    {
     "name": "stdout",
     "output_type": "stream",
     "text": [
      "1\n",
      "2\n",
      "3\n",
      "4\n"
     ]
    }
   ],
   "source": [
    "for a in range(4):\n",
    "    print (a+1)\n",
    "    "
   ]
  },
  {
   "cell_type": "code",
   "execution_count": 58,
   "metadata": {},
   "outputs": [
    {
     "name": "stdout",
     "output_type": "stream",
     "text": [
      "The value of the sum of numbers in the list= 21\n"
     ]
    }
   ],
   "source": [
    "#Sum of all numbers in a list\n",
    "list=[1,2,3,4,5,6]\n",
    "sum=0\n",
    "for n in list:\n",
    "    sum=sum+n\n",
    "print(\"The value of the sum of numbers in the list=\",sum)\n",
    "    "
   ]
  },
  {
   "cell_type": "code",
   "execution_count": 69,
   "metadata": {},
   "outputs": [
    {
     "name": "stdout",
     "output_type": "stream",
     "text": [
      "A\n",
      "C\n",
      "E\n",
      "Loop End! Array[4] is greater than 4\n"
     ]
    }
   ],
   "source": [
    "array=[\"A\",\"B\",\"C\",\"D\",\"E\",\"F\"]\n",
    "n=0\n",
    "for n in range(0,5,2):\n",
    "        print(array[n])  \n",
    "print(\"Loop End! Array[%d] is greater than 4\"%n)\n",
    "gjh"
   ]
  },
  {
   "cell_type": "code",
   "execution_count": 84,
   "metadata": {},
   "outputs": [
    {
     "name": "stdout",
     "output_type": "stream",
     "text": [
      "Enter your name: Rmk\n",
      "Now enter your current age: 21\n",
      "Enter a number: 5\n",
      "You will be 100 years old in the year 2097 \n",
      "\n",
      "You will be 100 years old in the year 2097 \n",
      "\n",
      "You will be 100 years old in the year 2097 \n",
      "\n",
      "You will be 100 years old in the year 2097 \n",
      "\n",
      "You will be 100 years old in the year 2097 \n",
      "\n"
     ]
    }
   ],
   "source": [
    "#100 years old-what year\n",
    "import datetime\n",
    "name=input(\"Enter your name: \")\n",
    "age=int(input(\"Now enter your current age: \"))\n",
    "\n",
    "now=datetime.datetime.now()\n",
    "born=now.year-age\n",
    "final_age = born + 100\n",
    "\n",
    "num=int(input(\"Enter a number: \"))\n",
    "for n in range(num):\n",
    "    print(\"You will be 100 years old in the year %d \\n\"%final_age)\n",
    "\n"
   ]
  },
  {
   "cell_type": "code",
   "execution_count": 92,
   "metadata": {},
   "outputs": [
    {
     "name": "stdout",
     "output_type": "stream",
     "text": [
      "Enter a number: 35\n",
      "[1, 1, 2, 3, 5, 8, 13, 21, 34]\n"
     ]
    }
   ],
   "source": [
    "#List of 10 numbers\n",
    "list=[1, 1, 2, 3, 5, 8, 13, 21, 34, 55, 89]\n",
    "new_list=[]\n",
    "num=int(input(\"Enter a number: \"))\n",
    "for n in range(len(list)):\n",
    "    if list[n]<num:\n",
    "        new_list.append(list[n])\n",
    "print (new_list) \n",
    "        "
   ]
  },
  {
   "cell_type": "code",
   "execution_count": 100,
   "metadata": {},
   "outputs": [
    {
     "name": "stdout",
     "output_type": "stream",
     "text": [
      "Enter a number: 24\n",
      "The divisors of 24 are: [1, 2, 3, 4, 6, 8, 12, 24]\n"
     ]
    }
   ],
   "source": [
    "#List of divisors\n",
    "num=int(input(\"Enter a number: \"))\n",
    "list=[]\n",
    "for n in range(1,num+1):\n",
    "    if num%n==0:\n",
    "        list.append(n)\n",
    "print(\"The divisors of %d are:\" %num,list)        \n",
    "        "
   ]
  },
  {
   "cell_type": "code",
   "execution_count": 130,
   "metadata": {},
   "outputs": [
    {
     "name": "stdout",
     "output_type": "stream",
     "text": [
      "[1, 2, 3, 5, 8, 13]\n"
     ]
    }
   ],
   "source": [
    "#List overlap-Method 1\n",
    "a=[1, 1, 2, 3, 5, 8, 13, 21, 34, 55, 89]\n",
    "b=[1, 2, 3, 4, 5, 6, 7, 8, 9, 10, 11, 12, 13]\n",
    "c=[]\n",
    "for i in a:\n",
    "    if i in b:\n",
    "        if i not in c:\n",
    "            c.append(i)\n",
    "print (c)    \n",
    "        \n",
    "            "
   ]
  },
  {
   "cell_type": "code",
   "execution_count": 131,
   "metadata": {},
   "outputs": [
    {
     "name": "stdout",
     "output_type": "stream",
     "text": [
      "{1, 2, 3, 5, 8, 13}\n"
     ]
    }
   ],
   "source": [
    "#List Overlap-Method 2\n",
    "a=[1, 1, 2, 3, 5, 8, 13, 21, 34, 55, 89]\n",
    "b=[1, 2, 3, 4, 5, 6, 7, 8, 9, 10, 11, 12, 13]\n",
    "print(set(a)&set(b))"
   ]
  },
  {
   "cell_type": "code",
   "execution_count": 2,
   "metadata": {},
   "outputs": [
    {
     "name": "stdout",
     "output_type": "stream",
     "text": [
      "Enter the word to be tested: Racecar\n",
      "Yes! It is a palindrome.\n"
     ]
    }
   ],
   "source": [
    "#Check for Palindrome\n",
    "str=input(\"Enter the word to be tested: \")\n",
    "n_str=[]\n",
    "i=0\n",
    "while (i<int(len(str)/2)):    \n",
    "    if  str[i]!=str[len(str)-1-i]:\n",
    "        i+=1\n",
    "    else:\n",
    "        print(\"Yes! It is a palindrome.\")\n",
    "        break   \n",
    "        \n",
    "else:\n",
    "    print(\"Sorry! Not a palindrome.\")"
   ]
  },
  {
   "cell_type": "code",
   "execution_count": 164,
   "metadata": {},
   "outputs": [
    {
     "name": "stdout",
     "output_type": "stream",
     "text": [
      "Enter value of angle: 0\n",
      " sin^2a + cos^2a=  1.0\n"
     ]
    }
   ],
   "source": [
    "#sin square\n",
    "import math\n",
    "a=float(input(\"Enter value of angle: \"))\n",
    "\n",
    "sum=math.sin(a)**2+math.cos(a)**2\n",
    "\n",
    "print (\" sin^2a + cos^2a= \",sum)\n"
   ]
  },
  {
   "cell_type": "code",
   "execution_count": null,
   "metadata": {},
   "outputs": [],
   "source": [
    "#Matrix Operations\n",
    "import numpy\n",
    "x = numpy.array([[-2, 1], [1, 0]]) \n",
    "y = numpy.array([[5, 0],[3,0]] )\n",
    "\n",
    "print(\"The product of the 2 matrices = \",numpy.dot(x,y))\n",
    "print(\"The transpose of matrix X= \",x.T)\n",
    "print(\"The transpose of matrix Y= \",y.T)\n",
    "print(\"The sum of matrix X and Y= \",numpy.add(x,y))\n",
    "print(\"The difference of matrix X and Y= \",numpy.subtract(x,y))\n"
   ]
  },
  {
   "cell_type": "code",
   "execution_count": null,
   "metadata": {},
   "outputs": [],
   "source": [
    "A=[[1,2],[3,0]]\n",
    "type(A)\n",
    "                 \n",
    "                 "
   ]
  }
 ],
 "metadata": {
  "kernelspec": {
   "display_name": "Python 3",
   "language": "python",
   "name": "python3"
  },
  "language_info": {
   "codemirror_mode": {
    "name": "ipython",
    "version": 3
   },
   "file_extension": ".py",
   "mimetype": "text/x-python",
   "name": "python",
   "nbconvert_exporter": "python",
   "pygments_lexer": "ipython3",
   "version": "3.6.6"
  }
 },
 "nbformat": 4,
 "nbformat_minor": 2
}
