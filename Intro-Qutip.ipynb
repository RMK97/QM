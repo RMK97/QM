{
 "cells": [
  {
   "cell_type": "code",
   "execution_count": null,
   "metadata": {},
   "outputs": [
    {
     "name": "stdout",
     "output_type": "stream",
     "text": [
      "\n",
      "QuTiP: Quantum Toolbox in Python\n",
      "Copyright (c) 2011 and later.\n",
      "A. J. Pitchford, P. D. Nation, R. J. Johansson, A. Grimsmo, and C. Granade\n",
      "\n",
      "QuTiP Version:      4.3.1\n",
      "Numpy Version:      1.15.3\n",
      "Scipy Version:      1.1.0\n",
      "Cython Version:     0.29\n",
      "Matplotlib Version: 3.0.0\n",
      "Python Version:     3.6.6\n",
      "Number of CPUs:     2\n",
      "BLAS Info:          INTEL MKL\n",
      "OPENMP Installed:   False\n",
      "INTEL MKL Ext:      True\n",
      "Platform Info:      Linux (x86_64)\n",
      "Installation path:  /home/rmk/anaconda3/lib/python3.6/site-packages/qutip\n",
      "==============================================================================\n",
      "Please cite QuTiP in your publication.\n",
      "==============================================================================\n",
      "For your convenience a bibtex file can be easily generated using `qutip.cite()`\n"
     ]
    },
    {
     "name": "stderr",
     "output_type": "stream",
     "text": [
      "DEBUG:qutip.logging_utils:Creating logger for qutip.control.grape with policy basic.\n",
      "DEBUG:qutip.logging_utils:Creating logger for qutip.control.optimconfig with policy basic.\n",
      "DEBUG:qutip.logging_utils:Creating logger for qutip.control.dynamics with policy basic.\n",
      "DEBUG:qutip.logging_utils:Creating logger for qutip.control.dump with policy basic.\n",
      "DEBUG:qutip.logging_utils:Creating logger for qutip.control.tslotcomp with policy basic.\n",
      "DEBUG:qutip.logging_utils:Creating logger for qutip.control.fidcomp with policy basic.\n",
      "DEBUG:qutip.logging_utils:Creating logger for qutip.control.propcomp with policy basic.\n",
      "DEBUG:qutip.logging_utils:Creating logger for qutip.control.optimizer with policy basic.\n",
      "DEBUG:qutip.logging_utils:Creating logger for qutip.control.pulsegen with policy basic.\n",
      "DEBUG:qutip.logging_utils:Creating logger for qutip.control.loadparams with policy basic.\n",
      "DEBUG:qutip.logging_utils:Creating logger for qutip.control.pulseoptim with policy basic.\n",
      "Transform 2-level to eigenbasis and back ... ok\n",
      "Transform 10-level real-values to eigenbasis and back ... ok\n",
      "Transform 10-level to eigenbasis and back ... ok\n",
      "Transform 10-level imag to eigenbasis and back ... ok\n",
      "Consistency between transformations of kets and density matrices ... ok\n",
      "Check diagonalization via eigenbasis transformation ... ok\n",
      "Check Qobj eigs and direct eig solver transformations match ... ok\n",
      "Check Qobj eigs and direct eig solver reverse transformations match ... ok\n",
      "brmesolve: simple qubit ... ok\n",
      "brmesolve: c_ops alone ... ok\n",
      "brmesolve: c_ops with a_ops ... ok\n",
      "brmesolve: harmonic oscillator, zero temperature ... ok\n",
      "brmesolve: harmonic oscillator, finite temperature ... ok\n",
      "brmesolve: harmonic oscillator, finite temperature, states ... ok\n",
      "brmesolve: Jaynes-Cummings model, zero temperature ... ok\n",
      "brmesolve: Check for #572 bug. ... ok\n",
      "brmesolve: input list of Qobj ... /home/rmk/anaconda3/lib/python3.6/site-packages/Cython/Compiler/Main.py:367: FutureWarning: Cython directive 'language_level' not set, using 2 for now (Py2). This will change in a later release! File: /home/rmk/Python Codes/rhs24590.pyx\n",
      "  tree = Parsing.p_module(s, pxd, full_module_name)\n",
      "ERROR\n",
      "td_brmesolve: passes all brmesolve tests ... /home/rmk/anaconda3/lib/python3.6/site-packages/Cython/Compiler/Main.py:367: FutureWarning: Cython directive 'language_level' not set, using 2 for now (Py2). This will change in a later release! File: /home/rmk/Python Codes/rhs24591.pyx\n",
      "  tree = Parsing.p_module(s, pxd, full_module_name)\n",
      "ERROR\n",
      "td_brmesolve: time-dependent a_ops ... /home/rmk/anaconda3/lib/python3.6/site-packages/Cython/Compiler/Main.py:367: FutureWarning: Cython directive 'language_level' not set, using 2 for now (Py2). This will change in a later release! File: /home/rmk/Python Codes/rhs24592.pyx\n",
      "  tree = Parsing.p_module(s, pxd, full_module_name)\n",
      "ERROR\n",
      "td_brmesolve: time-dependent a_ops tuple of strings ... /home/rmk/anaconda3/lib/python3.6/site-packages/Cython/Compiler/Main.py:367: FutureWarning: Cython directive 'language_level' not set, using 2 for now (Py2). This will change in a later release! File: /home/rmk/Python Codes/rhs24593.pyx\n",
      "  tree = Parsing.p_module(s, pxd, full_module_name)\n",
      "ERROR\n",
      "td_brmesolve: time-dependent a_ops tuple interp ... /home/rmk/anaconda3/lib/python3.6/site-packages/Cython/Compiler/Main.py:367: FutureWarning: Cython directive 'language_level' not set, using 2 for now (Py2). This will change in a later release! File: /home/rmk/Python Codes/rhs24594.pyx\n",
      "  tree = Parsing.p_module(s, pxd, full_module_name)\n",
      "ERROR\n",
      "td_brmesolve: time-dependent a_ops & c_ops interp ... /home/rmk/anaconda3/lib/python3.6/site-packages/Cython/Compiler/Main.py:367: FutureWarning: Cython directive 'language_level' not set, using 2 for now (Py2). This will change in a later release! File: /home/rmk/Python Codes/rhs24595.pyx\n",
      "  tree = Parsing.p_module(s, pxd, full_module_name)\n",
      "ERROR\n",
      "td_brmesolve: non-Hermitian e_ops check ... /home/rmk/anaconda3/lib/python3.6/site-packages/Cython/Compiler/Main.py:367: FutureWarning: Cython directive 'language_level' not set, using 2 for now (Py2). This will change in a later release! File: /home/rmk/Python Codes/rhs24596.pyx\n",
      "  tree = Parsing.p_module(s, pxd, full_module_name)\n",
      "ERROR\n",
      "td_brmesolve: states check ... /home/rmk/anaconda3/lib/python3.6/site-packages/Cython/Compiler/Main.py:367: FutureWarning: Cython directive 'language_level' not set, using 2 for now (Py2). This will change in a later release! File: /home/rmk/Python Codes/rhs24597.pyx\n",
      "  tree = Parsing.p_module(s, pxd, full_module_name)\n",
      "ERROR\n",
      "td_brmesolve: split ops #1 ... /home/rmk/anaconda3/lib/python3.6/site-packages/Cython/Compiler/Main.py:367: FutureWarning: Cython directive 'language_level' not set, using 2 for now (Py2). This will change in a later release! File: /home/rmk/Python Codes/rhs24598.pyx\n",
      "  tree = Parsing.p_module(s, pxd, full_module_name)\n",
      "ERROR\n",
      "td_brmesolve: split ops #2 ... /home/rmk/anaconda3/lib/python3.6/site-packages/Cython/Compiler/Main.py:367: FutureWarning: Cython directive 'language_level' not set, using 2 for now (Py2). This will change in a later release! File: /home/rmk/Python Codes/rhs24599.pyx\n",
      "  tree = Parsing.p_module(s, pxd, full_module_name)\n",
      "ERROR\n",
      "td_brmesolve: split ops, Cubic_Spline td-terms ... /home/rmk/anaconda3/lib/python3.6/site-packages/Cython/Compiler/Main.py:367: FutureWarning: Cython directive 'language_level' not set, using 2 for now (Py2). This will change in a later release! File: /home/rmk/Python Codes/rhs245910.pyx\n",
      "  tree = Parsing.p_module(s, pxd, full_module_name)\n",
      "ERROR\n",
      "td_brmesolve: split ops, multiple ... /home/rmk/anaconda3/lib/python3.6/site-packages/Cython/Compiler/Main.py:367: FutureWarning: Cython directive 'language_level' not set, using 2 for now (Py2). This will change in a later release! File: /home/rmk/Python Codes/rhs245911.pyx\n",
      "  tree = Parsing.p_module(s, pxd, full_module_name)\n",
      "ERROR\n",
      "td_brmesolve: Hamiltonian args ... /home/rmk/anaconda3/lib/python3.6/site-packages/Cython/Compiler/Main.py:367: FutureWarning: Cython directive 'language_level' not set, using 2 for now (Py2). This will change in a later release! File: /home/rmk/Python Codes/rhs245912.pyx\n",
      "  tree = Parsing.p_module(s, pxd, full_module_name)\n",
      "ERROR\n",
      "BR Tools : zheevr ... ok\n",
      "BR Tools : dense operator to eigenbasis ... ok\n",
      "BR Tools : vector to eigenbasis ... ok\n",
      "BR Tools : eigvector to fockbasis ... ok\n",
      "BR Tools : vector roundtrip transform ... ok\n",
      "BR Tools : Diagonal liouvillian mult ... ok\n",
      "BR Tools : cop_super_mult ... ok\n",
      "BR Tools : br_term_mult ... ok\n",
      "control.pulseoptim: Hadamard gate with linear initial pulses ... ok\n",
      "control.pulseoptim: Hadamard gate with linear initial pulses (no stats) ... ok\n",
      "control.pulseoptim: Hadamard gate with linear initial pulses (tau) ... ok\n",
      "control.pulseoptim: Hadamard gate with linear initial pulses (Qobj) ... ok\n",
      "control.pulseoptim: Hadamard gate with linear initial pulses (OO) ... ok\n",
      "control.pulseoptim: Hadamard gate gradient check ... ok\n",
      "control.pulseoptim: QFT gate with linear initial pulses ... ok\n",
      "control.pulseoptim: QFT gate with linear initial pulses (bounds) ... ok\n",
      "control: data dumping ... ok\n",
      "control: unitarity checking (via dump) ... ok\n",
      "control.pulseoptim: state-to-state transfer ... ok\n",
      "control.pulseoptim: state-to-state transfer (Qobj) ... ok\n",
      "control.pulseoptim: amplitude damping channel ... ok\n",
      "control.pulseoptim: coupled oscillators (symplectic dynamics) ... ok\n",
      "control.pulseoptim: Hadamard gate using CRAB algorithm ... ok\n",
      "control.pulseoptim: Hadamard gate (loading config from file) ... ok\n",
      "control.pulsegen: Check periodic control functions ... ok\n",
      "control.pulseoptim: Hadamard gate with fixed and time varying drift ... ok\n",
      "control.pulseoptim: Hadamard gate with fixed and time varying ctrls ... ok\n",
      "correlation: legacy me and es for oscillator in coherent initial state ... ok\n",
      "correlation: comparing me and es for oscillator in coherent initial state ... ok\n",
      "correlation: comparing me and mc for driven oscillator in fock state ... ok\n",
      "correlation: legacy me and es for oscillator in steady-state ... ok\n",
      "correlation: comparing me and es for oscillator in steady-state ... ok\n",
      "correlation: legacy spectrum from es and pi methods ... ok\n",
      "correlation: comparing spectrum from es and fft methods ... ok\n",
      "correlation: comparing spectrum from es and pi methods ... ok\n",
      "correlation: comparing TLS emission corr., H td (str-list td format) ... /home/rmk/anaconda3/lib/python3.6/site-packages/Cython/Compiler/Main.py:367: FutureWarning: Cython directive 'language_level' not set, using 2 for now (Py2). This will change in a later release! File: /home/rmk/Python Codes/rhs245913.pyx\n",
      "  tree = Parsing.p_module(s, pxd, full_module_name)\n",
      "ERROR\n",
      "correlation: comparing TLS emission corr., H td (np-list td format) ... /home/rmk/anaconda3/lib/python3.6/site-packages/Cython/Compiler/Main.py:367: FutureWarning: Cython directive 'language_level' not set, using 2 for now (Py2). This will change in a later release! File: /home/rmk/Python Codes/rhs245914.pyx\n",
      "  tree = Parsing.p_module(s, pxd, full_module_name)\n",
      "ERROR\n",
      "correlation: comparing TLS emission corr., H td (fn-list td format) ... ok\n",
      "correlation: comparing TLS emission corr., H td (fn td format) ... ok\n",
      "correlation: comparing 3LS emission corr., c_ops td (str-list td format) ... /home/rmk/anaconda3/lib/python3.6/site-packages/Cython/Compiler/Main.py:367: FutureWarning: Cython directive 'language_level' not set, using 2 for now (Py2). This will change in a later release! File: /home/rmk/Python Codes/rhs245915.pyx\n",
      "  tree = Parsing.p_module(s, pxd, full_module_name)\n",
      "ERROR\n",
      "correlation: comparing 3LS emission corr., c_ops td (np-list td format) ... /home/rmk/anaconda3/lib/python3.6/site-packages/Cython/Compiler/Main.py:367: FutureWarning: Cython directive 'language_level' not set, using 2 for now (Py2). This will change in a later release! File: /home/rmk/Python Codes/rhs245916.pyx\n",
      "  tree = Parsing.p_module(s, pxd, full_module_name)\n",
      "ERROR\n",
      "correlation: comparing 3LS emission corr., c_ops td (fn-list td format) ... ok\n",
      "correlation: comparing TLS emission corr. (str-list td format) ... /home/rmk/anaconda3/lib/python3.6/site-packages/Cython/Compiler/Main.py:367: FutureWarning: Cython directive 'language_level' not set, using 2 for now (Py2). This will change in a later release! File: /home/rmk/Python Codes/rhs245917.pyx\n",
      "  tree = Parsing.p_module(s, pxd, full_module_name)\n",
      "ERROR\n",
      "correlation: comparing TLS emission corr. (np-list td format) ... /home/rmk/anaconda3/lib/python3.6/site-packages/Cython/Compiler/Main.py:367: FutureWarning: Cython directive 'language_level' not set, using 2 for now (Py2). This will change in a later release! File: /home/rmk/Python Codes/rhs245918.pyx\n",
      "  tree = Parsing.p_module(s, pxd, full_module_name)\n",
      "ERROR\n",
      "correlation: comparing TLS emission corr. (fn-list td format) ... ok\n",
      "Counting statistics: current and current noise in a DQD model ... ok\n",
      "Dispersive cQED Setup: compare unitary matrix for ISWAP and propogator ... ok\n",
      "Dispersive cQED Setup: compare unitary matrix for ISWAP, SQRTISWAP, ... ok\n",
      "Cython structs : COO to CSR ... ok\n",
      "Cython structs : sort CSR indices inplace ... ok\n",
      "Cython structs : COO to CSR inplace (no sort) ... ok\n",
      "Cython structs : COO to CSR inplace (sorted) ... ok\n",
      "Cython structs : CSR to COO ... ok\n",
      "qutip.tests.test_dimensions.test_flatten ... ok\n",
      "qutip.tests.test_dimensions.test_enumerate_flat ... ok\n",
      "qutip.tests.test_dimensions.test_deep_remove ... ok\n",
      "qutip.tests.test_dimensions.test_unflatten ... ok\n",
      "qutip.tests.test_dimensions.test_dims_idxs_to_tensor_idxs ... ok\n",
      "qutip.tests.test_dimensions.test_dims_to_tensor_shape ... ok\n",
      "qutip.tests.test_dimensions.test_type_from_dims ... ok\n",
      "qutip.tests.test_dimensions.test_collapse ... ok\n",
      "Diagonalization of random two-level system ... ok\n",
      "Diagonalization of composite systems ... ok\n",
      "Excitation-number-restricted state-space: full state space ... ok\n",
      "Excitation-number-restricted state space: single excitations ... ok\n",
      "Excitation-number-restricted state space: two excitations ... ok\n",
      "Excitation-number-restricted state space: fock states ... ok\n",
      "Excitation-number-restricted state space: identity operator ... ok\n",
      "Excitation-number-restricted state space: thermal density operator (I) ... ok\n",
      "Excitation-number-restricted state space: thermal density operator (II) ... ok\n",
      "Entropy: von-Neumann entropy ... ok\n",
      "Entropy: Linear entropy ... ok\n",
      "Entropy: Concurrence ... ok\n",
      "Entropy: Mutual information ... ok\n",
      "Entropy: Conditional entropy ... ok\n",
      "Entropy: Entangling power ... ok\n",
      "expect: operator list and state list ... ok\n",
      "expect: operator and density matrix ... ok\n",
      "expect: operator and ket ... ok\n",
      "expect: rand operator & rand ket ... ok\n",
      "expect: operator list and state ... ok\n",
      "expect: operator list and state list ... ok\n",
      "expect: operator and state list ... ok\n",
      "fastsparse: fast_csr_matrix operations ... ok\n",
      "fastsparse: transpose operations ... ok\n",
      "fastsparse: adjoint operations ... ok\n",
      "Read and write complex valued decimal formatted data ... ok\n",
      "Read and write complex valued default formatted data ... ok\n",
      "Read and write complex valued exp formatted data ... ok\n",
      "Read and write real valued decimal formatted data ... ok\n",
      "Read and write real valued default formatted data ... ok\n",
      "Read and write real valued exp formatted data ... ok\n",
      "Read and write with automatic separator detection ... ok\n",
      "qsave/qload ... ok\n",
      "Floquet: test unitary evolution of time-dependent two-level system ... ok\n",
      "gates: expand 1 to N ... ok\n",
      "gates: expand 2 to N (using cnot, iswap, sqrtswap) ... ok\n",
      "gates: expand 2 to N (using swap) ... ok\n",
      "gates: expand 3 to N (using toffoli, fredkin, and random 3 qubit gate) ... ok\n",
      "gates: expand 3 to 3 with permuTation (using toffoli) ... ok\n",
      "gates: swap gate ... ok\n",
      "qutip.tests.test_gates.TestGates.test_are_cliffords ... ok\n",
      "qutip.tests.test_gates.TestGates.test_clifford_group_len ... ok\n",
      "Graph: Graph Degree ... ok\n",
      "Graph: Breadth-First Search ... ok\n",
      "Graph: Reverse Cuthill-McKee Ordering (simple) ... ok\n",
      "Graph: Reverse Cuthill-McKee Ordering (boost) ... ok\n",
      "Graph: Reverse Cuthill-McKee Ordering (qutip) ... ok\n",
      "Graph: Maximum Bipartite Matching ... ok\n",
      "Graph: Weighted Bipartite Matching ... ok\n",
      "Graph: Column Permutation ... ok\n",
      "HSolverDL: Compare with pure-dephasing analytical ... ok\n",
      "Interpolate: Sine + noise (array) ... ok\n",
      "Interpolate: Sine + noise (point) ... ok\n",
      "Interpolate: Complex sine + noise (array) ... ok\n",
      "Interpolate: Complex sine + noise (point) ... ok\n",
      "Interpolate: sesolve str-based (real) ... /home/rmk/anaconda3/lib/python3.6/site-packages/Cython/Compiler/Main.py:367: FutureWarning: Cython directive 'language_level' not set, using 2 for now (Py2). This will change in a later release! File: /home/rmk/Python Codes/rhs245919.pyx\n",
      "  tree = Parsing.p_module(s, pxd, full_module_name)\n",
      "ERROR\n",
      "Interpolate: mesolve str-based (real) ... /home/rmk/anaconda3/lib/python3.6/site-packages/Cython/Compiler/Main.py:367: FutureWarning: Cython directive 'language_level' not set, using 2 for now (Py2). This will change in a later release! File: /home/rmk/Python Codes/rhs245920.pyx\n",
      "  tree = Parsing.p_module(s, pxd, full_module_name)\n",
      "ERROR\n",
      "Interpolate: mcsolve str-based (real) ... /home/rmk/anaconda3/lib/python3.6/site-packages/qutip/mcsolve.py:1152: DeprecationWarning: Calling np.sum(generator) is deprecated, and in the future will give a different result. Use np.sum(np.from_iter(generator)) or the python sum builtin instead.\n",
      "  H = np.array([np.sum(H[k] for k in H_const_inds)] +\n",
      "/home/rmk/anaconda3/lib/python3.6/site-packages/Cython/Compiler/Main.py:367: FutureWarning: Cython directive 'language_level' not set, using 2 for now (Py2). This will change in a later release! File: /home/rmk/Python Codes/rhs245921.pyx\n",
      "  tree = Parsing.p_module(s, pxd, full_module_name)\n",
      "ERROR\n",
      "Interpolate: sesolve str + interp (real) ... /home/rmk/anaconda3/lib/python3.6/site-packages/Cython/Compiler/Main.py:367: FutureWarning: Cython directive 'language_level' not set, using 2 for now (Py2). This will change in a later release! File: /home/rmk/Python Codes/rhs245922.pyx\n",
      "  tree = Parsing.p_module(s, pxd, full_module_name)\n",
      "ERROR\n",
      "Interpolate: sesolve func + interp (real) ... /home/rmk/anaconda3/lib/python3.6/site-packages/Cython/Compiler/Main.py:367: FutureWarning: Cython directive 'language_level' not set, using 2 for now (Py2). This will change in a later release! File: /home/rmk/Python Codes/rhs245923.pyx\n",
      "  tree = Parsing.p_module(s, pxd, full_module_name)\n",
      "ERROR\n"
     ]
    },
    {
     "name": "stderr",
     "output_type": "stream",
     "text": [
      "Interpolate: mesolve str + interp (real) ... /home/rmk/anaconda3/lib/python3.6/site-packages/Cython/Compiler/Main.py:367: FutureWarning: Cython directive 'language_level' not set, using 2 for now (Py2). This will change in a later release! File: /home/rmk/Python Codes/rhs245924.pyx\n",
      "  tree = Parsing.p_module(s, pxd, full_module_name)\n",
      "ERROR\n",
      "Interpolate: mesolve func + interp (real) ... /home/rmk/anaconda3/lib/python3.6/site-packages/Cython/Compiler/Main.py:367: FutureWarning: Cython directive 'language_level' not set, using 2 for now (Py2). This will change in a later release! File: /home/rmk/Python Codes/rhs245925.pyx\n",
      "  tree = Parsing.p_module(s, pxd, full_module_name)\n",
      "ERROR\n",
      "Interpolate: mcsolve str + interp (real) ... /home/rmk/anaconda3/lib/python3.6/site-packages/qutip/mcsolve.py:1152: DeprecationWarning: Calling np.sum(generator) is deprecated, and in the future will give a different result. Use np.sum(np.from_iter(generator)) or the python sum builtin instead.\n",
      "  H = np.array([np.sum(H[k] for k in H_const_inds)] +\n",
      "/home/rmk/anaconda3/lib/python3.6/site-packages/Cython/Compiler/Main.py:367: FutureWarning: Cython directive 'language_level' not set, using 2 for now (Py2). This will change in a later release! File: /home/rmk/Python Codes/rhs245926.pyx\n",
      "  tree = Parsing.p_module(s, pxd, full_module_name)\n",
      "ERROR\n",
      "Interpolate: mcsolve func + interp (real) ... /home/rmk/anaconda3/lib/python3.6/site-packages/qutip/mcsolve.py:1152: DeprecationWarning: Calling np.sum(generator) is deprecated, and in the future will give a different result. Use np.sum(np.from_iter(generator)) or the python sum builtin instead.\n",
      "  H = np.array([np.sum(H[k] for k in H_const_inds)] +\n",
      "/home/rmk/anaconda3/lib/python3.6/site-packages/Cython/Compiler/Main.py:367: FutureWarning: Cython directive 'language_level' not set, using 2 for now (Py2). This will change in a later release! File: /home/rmk/Python Codes/rhs245927.pyx\n",
      "  tree = Parsing.p_module(s, pxd, full_module_name)\n",
      "ERROR\n",
      "Interpolate: mesolve str + interp (complex) ... /home/rmk/anaconda3/lib/python3.6/site-packages/Cython/Compiler/Main.py:367: FutureWarning: Cython directive 'language_level' not set, using 2 for now (Py2). This will change in a later release! File: /home/rmk/Python Codes/rhs245928.pyx\n",
      "  tree = Parsing.p_module(s, pxd, full_module_name)\n",
      "ERROR\n",
      "Interpolate: mesolve func + interp (complex) ... /home/rmk/anaconda3/lib/python3.6/site-packages/Cython/Compiler/Main.py:367: FutureWarning: Cython directive 'language_level' not set, using 2 for now (Py2). This will change in a later release! File: /home/rmk/Python Codes/rhs245929.pyx\n",
      "  tree = Parsing.p_module(s, pxd, full_module_name)\n",
      "ERROR\n",
      "Interpolate: brmesolve str + interp (real) ... /home/rmk/anaconda3/lib/python3.6/site-packages/Cython/Compiler/Main.py:367: FutureWarning: Cython directive 'language_level' not set, using 2 for now (Py2). This will change in a later release! File: /home/rmk/Python Codes/rhs245930.pyx\n",
      "  tree = Parsing.p_module(s, pxd, full_module_name)\n",
      "ERROR\n",
      "Interpolate: brmesolve str + interp (complex) ... /home/rmk/anaconda3/lib/python3.6/site-packages/Cython/Compiler/Main.py:367: FutureWarning: Cython directive 'language_level' not set, using 2 for now (Py2). This will change in a later release! File: /home/rmk/Python Codes/rhs245931.pyx\n",
      "  tree = Parsing.p_module(s, pxd, full_module_name)\n",
      "ERROR\n",
      "Interpolate: brmesolve c_op as interp (str) ... /home/rmk/anaconda3/lib/python3.6/site-packages/Cython/Compiler/Main.py:367: FutureWarning: Cython directive 'language_level' not set, using 2 for now (Py2). This will change in a later release! File: /home/rmk/Python Codes/rhs245932.pyx\n",
      "  tree = Parsing.p_module(s, pxd, full_module_name)\n",
      "ERROR\n",
      "Monte-carlo: Constant H with no collapse ops (expect) ... ok\n",
      "Monte-carlo: Constant H with no collapse ops (states) ... ok\n",
      "Monte-carlo: Constant H with no collapse ops (expect and states) ... ok\n",
      "Monte-carlo: Constant H (str format) with no collapse ops (expect) ... /home/rmk/anaconda3/lib/python3.6/site-packages/qutip/mcsolve.py:1152: DeprecationWarning: Calling np.sum(generator) is deprecated, and in the future will give a different result. Use np.sum(np.from_iter(generator)) or the python sum builtin instead.\n",
      "  H = np.array([np.sum(H[k] for k in H_const_inds)] +\n",
      "/home/rmk/anaconda3/lib/python3.6/site-packages/Cython/Compiler/Main.py:367: FutureWarning: Cython directive 'language_level' not set, using 2 for now (Py2). This will change in a later release! File: /home/rmk/Python Codes/rhs245933.pyx\n",
      "  tree = Parsing.p_module(s, pxd, full_module_name)\n",
      "ERROR\n",
      "Monte-carlo: Constant H (func format) with no collapse ops (expect) ... /home/rmk/anaconda3/lib/python3.6/site-packages/qutip/mcsolve.py:1271: DeprecationWarning: Calling np.sum(generator) is deprecated, and in the future will give a different result. Use np.sum(np.from_iter(generator)) or the python sum builtin instead.\n",
      "  H = np.sum(H[k] for k in H_const_inds)\n",
      "ok\n",
      "Monte-carlo: Constant H (str format) with no collapse ops (states) ... /home/rmk/anaconda3/lib/python3.6/site-packages/qutip/mcsolve.py:1152: DeprecationWarning: Calling np.sum(generator) is deprecated, and in the future will give a different result. Use np.sum(np.from_iter(generator)) or the python sum builtin instead.\n",
      "  H = np.array([np.sum(H[k] for k in H_const_inds)] +\n",
      "/home/rmk/anaconda3/lib/python3.6/site-packages/Cython/Compiler/Main.py:367: FutureWarning: Cython directive 'language_level' not set, using 2 for now (Py2). This will change in a later release! File: /home/rmk/Python Codes/rhs245934.pyx\n",
      "  tree = Parsing.p_module(s, pxd, full_module_name)\n",
      "ERROR\n",
      "Monte-carlo: Constant H (func format) with no collapse ops (states) ... /home/rmk/anaconda3/lib/python3.6/site-packages/qutip/mcsolve.py:1271: DeprecationWarning: Calling np.sum(generator) is deprecated, and in the future will give a different result. Use np.sum(np.from_iter(generator)) or the python sum builtin instead.\n",
      "  H = np.sum(H[k] for k in H_const_inds)\n",
      "ok\n",
      "Monte-carlo: Check for stored collapse operators and times ... ok\n",
      "Monte-carlo: Constant H with constant collapse ... ok\n",
      "Monte-carlo: Constant H with constant collapse (states) ... ok\n",
      "Monte-carlo: Constant H with constant collapse (states) ... ok\n",
      "Monte-carlo: Constant H with single collapse operator ... ok\n",
      "Monte-carlo: Constant H with single expect operator ... ok\n",
      "Monte-carlo: Collapse terms constant (func format) ... ok\n",
      "Monte-carlo: Collapse terms constant (str format) ... /home/rmk/anaconda3/lib/python3.6/site-packages/Cython/Compiler/Main.py:367: FutureWarning: Cython directive 'language_level' not set, using 2 for now (Py2). This will change in a later release! File: /home/rmk/Python Codes/rhs245935.pyx\n",
      "  tree = Parsing.p_module(s, pxd, full_module_name)\n",
      "ERROR\n",
      "Monte-carlo: Time-dependent H (func format) ... "
     ]
    }
   ],
   "source": [
    "import qutip.testing as qt\n",
    "qt.run()"
   ]
  },
  {
   "cell_type": "markdown",
   "metadata": {},
   "source": [
    "# 1.Intro to QuTip"
   ]
  },
  {
   "cell_type": "markdown",
   "metadata": {},
   "source": [
    "## 1.1Basic Operators:"
   ]
  },
  {
   "cell_type": "code",
   "execution_count": null,
   "metadata": {},
   "outputs": [],
   "source": [
    "from qutip import *\n",
    "a=basis(5,0)\n",
    "print(\"Basis ket= \",a)\n",
    "\n",
    "print(\"Identity matrix= \\n\",qeye(3))\n",
    "\n",
    "print(\"Lowering (Annihilation) operator= \\n\", destroy(3))\n",
    "print(\"Raising (Creation) operator= \\n\", create(3))\n",
    "\n",
    "print(\"Number operator= \\n\",num(3))\n",
    "\n",
    "print(\"Momentum operator= \\n\",momentum(3))\n",
    "print(\"Position operator= \\n\",position(4))\n"
   ]
  },
  {
   "cell_type": "markdown",
   "metadata": {},
   "source": [
    "## 1.2Basic Computations(1D)-"
   ]
  },
  {
   "cell_type": "code",
   "execution_count": null,
   "metadata": {},
   "outputs": [],
   "source": [
    "from qutip import *\n",
    "import numpy as np\n",
    "\n",
    "#Basic \n",
    "\n",
    "A=Qobj([[1],[0],[-1]])\n",
    "print(A)\n",
    "print(\"Norm of A= \",A.norm())\n",
    "print(\"Transpose= \",A.trans())\n",
    "print(\"A*I= \\n\",A.trans()*qeye(3))\n",
    "\n",
    "B=Qobj([[1],[-5j],[-2],[4j]])\n",
    "print(B)\n",
    "print(\"Dagger(complex conjugate transpose) of B= \",B.dag())\n",
    "print(\"Conjugate of B= \",B.conj())\n",
    "\n",
    "#Creation and Annihilation Operator\n",
    "\n",
    "print(\"Lowering (Annihilation) operator= \\n\", destroy(3))\n",
    "print(\"Annihilation on A=\\n\", A.trans()*destroy(3))\n",
    "print(\"Raising (Creation) operator= \\n\", create(3))\n",
    "print(\"Creation on A=\\n\", A.trans()*create(3))\n",
    "\n",
    "#Position,Momentum,Number Operator\n",
    "\n",
    "print(\"Position on A= \\n\",A.trans()*position(3))\n",
    "print(\"Momentum on A= \\n\",A.trans()*momentum(3))\n",
    "print(\"Number operator= \",A.trans()*num(3))\n",
    "\n",
    "\n"
   ]
  },
  {
   "cell_type": "markdown",
   "metadata": {},
   "source": [
    "## 1.3Basic Computations(2D)-"
   ]
  },
  {
   "cell_type": "code",
   "execution_count": null,
   "metadata": {},
   "outputs": [],
   "source": [
    "from qutip import *\n",
    "import numpy as np\n",
    "\n",
    "#Matrix representation of Qobj\n",
    "X=np.matrix('1,2,1;0,2,1;0,1,-1j')                    #or np.matrix([[1,2,1],[0,2,1]]) \n",
    "print(Qobj(X))\n",
    "Y=np.random.rand(3,2)\n",
    "print(Qobj(Y))"
   ]
  },
  {
   "cell_type": "markdown",
   "metadata": {},
   "source": [
    "## 1.4EigenValues and Eigenvectors-"
   ]
  },
  {
   "cell_type": "code",
   "execution_count": 267,
   "metadata": {},
   "outputs": [
    {
     "name": "stdout",
     "output_type": "stream",
     "text": [
      "<class 'qutip.qobj.Qobj'>\n",
      "Matrix M=  Quantum object: dims = [[3], [3]], shape = (3, 3), type = oper, isherm = True\n",
      "Qobj data =\n",
      "[[2. 1. 0.]\n",
      " [1. 2. 1.]\n",
      " [0. 1. 2.]]\n",
      "Eigenvalues are=  [0.58578644 2.         3.41421356]\n",
      "Eigenvectors= \n",
      " [Quantum object: dims = [[3], [1]], shape = (3, 1), type = ket\n",
      "Qobj data =\n",
      "[[ 0.5       ]\n",
      " [-0.70710678]\n",
      " [ 0.5       ]]\n",
      " Quantum object: dims = [[3], [1]], shape = (3, 1), type = ket\n",
      "Qobj data =\n",
      "[[-0.70710678]\n",
      " [ 0.        ]\n",
      " [ 0.70710678]]\n",
      " Quantum object: dims = [[3], [1]], shape = (3, 1), type = ket\n",
      "Qobj data =\n",
      "[[0.5       ]\n",
      " [0.70710678]\n",
      " [0.5       ]]]\n"
     ]
    }
   ],
   "source": [
    "from qutip import *\n",
    "import numpy as np\n",
    "M=Qobj(np.matrix('2,1,0;1,2,1;0,1,2'))\n",
    "print(type(M))\n",
    "print(\"Matrix M= \",M)\n",
    "EVAL,EVEC=M.eigenstates()\n",
    "print(\"Eigenvalues are= \",EVAL)\n",
    "print(\"Eigenvectors= \\n\",EVEC)\n"
   ]
  },
  {
   "cell_type": "markdown",
   "metadata": {},
   "source": [
    "## 2.Simple Harmonic Oscillator"
   ]
  },
  {
   "cell_type": "markdown",
   "metadata": {},
   "source": [
    "## 2.1 Numerical"
   ]
  },
  {
   "cell_type": "code",
   "execution_count": 121,
   "metadata": {},
   "outputs": [
    {
     "data": {
      "text/latex": [
       "Quantum object: dims = [[4], [1]], shape = (4, 1), type = ket\\begin{equation*}\\left(\\begin{array}{*{11}c}1.0\\\\0.0\\\\0.0\\\\0.0\\\\\\end{array}\\right)\\end{equation*}"
      ],
      "text/plain": [
       "Quantum object: dims = [[4], [1]], shape = (4, 1), type = ket\n",
       "Qobj data =\n",
       "[[1.]\n",
       " [0.]\n",
       " [0.]\n",
       " [0.]]"
      ]
     },
     "execution_count": 121,
     "metadata": {},
     "output_type": "execute_result"
    }
   ],
   "source": [
    "from qutip import *\n",
    "import numpy as np\n",
    "s0=ket([0],4)\n",
    "s0"
   ]
  },
  {
   "cell_type": "code",
   "execution_count": 122,
   "metadata": {},
   "outputs": [
    {
     "data": {
      "text/latex": [
       "Quantum object: dims = [[4], [4]], shape = (4, 4), type = oper, isherm = False\\begin{equation*}\\left(\\begin{array}{*{11}c}0.0 & 0.0 & 0.0 & 0.0\\\\1.0 & 0.0 & 0.0 & 0.0\\\\0.0 & 1.414 & 0.0 & 0.0\\\\0.0 & 0.0 & 1.732 & 0.0\\\\\\end{array}\\right)\\end{equation*}"
      ],
      "text/plain": [
       "Quantum object: dims = [[4], [4]], shape = (4, 4), type = oper, isherm = False\n",
       "Qobj data =\n",
       "[[0.         0.         0.         0.        ]\n",
       " [1.         0.         0.         0.        ]\n",
       " [0.         1.41421356 0.         0.        ]\n",
       " [0.         0.         1.73205081 0.        ]]"
      ]
     },
     "execution_count": 122,
     "metadata": {},
     "output_type": "execute_result"
    }
   ],
   "source": [
    "adag=create(4)\n",
    "adag"
   ]
  },
  {
   "cell_type": "code",
   "execution_count": 188,
   "metadata": {},
   "outputs": [
    {
     "name": "stdout",
     "output_type": "stream",
     "text": [
      "Number operator=  Quantum object: dims = [[4], [4]], shape = (4, 4), type = oper, isherm = True\n",
      "Qobj data =\n",
      "[[0. 0. 0. 0.]\n",
      " [0. 1. 0. 0.]\n",
      " [0. 0. 2. 0.]\n",
      " [0. 0. 0. 3.]]\n"
     ]
    }
   ],
   "source": [
    "adag**2*s0\n",
    "print(\"Number operator= \",adag*destroy(4))"
   ]
  },
  {
   "cell_type": "code",
   "execution_count": 161,
   "metadata": {},
   "outputs": [
    {
     "data": {
      "text/latex": [
       "Quantum object: dims = [[4], [4]], shape = (4, 4), type = oper, isherm = True\\begin{equation*}\\left(\\begin{array}{*{11}c}0.500 & 0.0 & 0.0 & 0.0\\\\0.0 & 1.500 & 0.0 & 0.0\\\\0.0 & 0.0 & 2.500 & 0.0\\\\0.0 & 0.0 & 0.0 & 3.500\\\\\\end{array}\\right)\\end{equation*}"
      ],
      "text/plain": [
       "Quantum object: dims = [[4], [4]], shape = (4, 4), type = oper, isherm = True\n",
       "Qobj data =\n",
       "[[0.5 0.  0.  0. ]\n",
       " [0.  1.5 0.  0. ]\n",
       " [0.  0.  2.5 0. ]\n",
       " [0.  0.  0.  3.5]]"
      ]
     },
     "execution_count": 161,
     "metadata": {},
     "output_type": "execute_result"
    }
   ],
   "source": [
    "H=adag*destroy(4) + 0.5*qeye(4)\n",
    "H"
   ]
  },
  {
   "cell_type": "code",
   "execution_count": 176,
   "metadata": {},
   "outputs": [
    {
     "name": "stdout",
     "output_type": "stream",
     "text": [
      "Quantum object: dims = [[4], [1]], shape = (4, 1), type = ket\n",
      "Qobj data =\n",
      "[[1.]\n",
      " [0.]\n",
      " [0.]\n",
      " [0.]]\n",
      "Enter no. of states= 4\n",
      "Psi_ 0 =  Quantum object: dims = [[4], [1]], shape = (4, 1), type = ket\n",
      "Qobj data =\n",
      "[[1.]\n",
      " [0.]\n",
      " [0.]\n",
      " [0.]]\n",
      "Psi_ 1 =  Quantum object: dims = [[4], [1]], shape = (4, 1), type = ket\n",
      "Qobj data =\n",
      "[[0.]\n",
      " [1.]\n",
      " [0.]\n",
      " [0.]]\n",
      "Psi_ 2 =  Quantum object: dims = [[4], [1]], shape = (4, 1), type = ket\n",
      "Qobj data =\n",
      "[[0.]\n",
      " [0.]\n",
      " [1.]\n",
      " [0.]]\n",
      "Psi_ 3 =  Quantum object: dims = [[4], [1]], shape = (4, 1), type = ket\n",
      "Qobj data =\n",
      "[[0.]\n",
      " [0.]\n",
      " [0.]\n",
      " [1.]]\n"
     ]
    }
   ],
   "source": [
    "#Normalized eigenstate\n",
    "from math import *\n",
    "from qutip import *\n",
    "import numpy as np\n",
    "\n",
    "s0=ket([0],4)\n",
    "print(s0)\n",
    "adag=create(4)\n",
    "def psi(n):\n",
    "\n",
    "    Psi=((adag**n)*s0)/sqrt(math.factorial(n))    #sqrt(math.factorial(n))\n",
    "    return Psi\n",
    "n=int(input(\"Enter no. of states= \"))\n",
    "for i in range(0,n):\n",
    "    print(\"Psi_\",i,\"= \",psi(i))"
   ]
  },
  {
   "cell_type": "markdown",
   "metadata": {},
   "source": [
    "$$ a_{+}\\psi_{n} $$"
   ]
  },
  {
   "cell_type": "code",
   "execution_count": 194,
   "metadata": {},
   "outputs": [
    {
     "name": "stdout",
     "output_type": "stream",
     "text": [
      "Ground state=  Quantum object: dims = [[4], [1]], shape = (4, 1), type = ket\n",
      "Qobj data =\n",
      "[[1.]\n",
      " [0.]\n",
      " [0.]\n",
      " [0.]]\n",
      "a{+} Psi(0)=  Quantum object: dims = [[4], [1]], shape = (4, 1), type = ket\n",
      "Qobj data =\n",
      "[[0.]\n",
      " [1.]\n",
      " [0.]\n",
      " [0.]]\n"
     ]
    }
   ],
   "source": [
    "def cr_psi(n):\n",
    "    Val=psi(n+1)*sqrt(n+1)\n",
    "    return Val\n",
    "print(\"Ground state= \",s0)\n",
    "print(\"a{+} Psi(0)= \",cr_psi(0))"
   ]
  },
  {
   "cell_type": "markdown",
   "metadata": {},
   "source": [
    "$$ a_{-}\\psi_{n} $$"
   ]
  },
  {
   "cell_type": "code",
   "execution_count": 195,
   "metadata": {},
   "outputs": [
    {
     "name": "stdout",
     "output_type": "stream",
     "text": [
      "Ground state=  Quantum object: dims = [[4], [1]], shape = (4, 1), type = ket\n",
      "Qobj data =\n",
      "[[1.]\n",
      " [0.]\n",
      " [0.]\n",
      " [0.]]\n",
      "a{-} Psi(0)=  Quantum object: dims = [[4], [1]], shape = (4, 1), type = ket\n",
      "Qobj data =\n",
      "[[0.        ]\n",
      " [0.        ]\n",
      " [1.73205081]\n",
      " [0.        ]]\n"
     ]
    }
   ],
   "source": [
    "def des_psi(n):\n",
    "    Val=psi(n-1)*sqrt(n)\n",
    "    return Val\n",
    "print(\"Ground state= \",s0)\n",
    "print(\"a{-} Psi(0)= \",des_psi(3))\n"
   ]
  },
  {
   "cell_type": "markdown",
   "metadata": {},
   "source": [
    "## Hamiltonian"
   ]
  },
  {
   "cell_type": "code",
   "execution_count": 178,
   "metadata": {},
   "outputs": [
    {
     "name": "stdout",
     "output_type": "stream",
     "text": [
      "Quantum object: dims = [[4], [1]], shape = (4, 1), type = ket\n",
      "Qobj data =\n",
      "[[1.]\n",
      " [0.]\n",
      " [0.]\n",
      " [0.]]\n",
      "Enter the no. of states= 4\n",
      "Hamiltonian of  0 state=  Quantum object: dims = [[4], [1]], shape = (4, 1), type = ket\n",
      "Qobj data =\n",
      "[[0.5]\n",
      " [0. ]\n",
      " [0. ]\n",
      " [0. ]]\n",
      "Hamiltonian of  1 state=  Quantum object: dims = [[4], [1]], shape = (4, 1), type = ket\n",
      "Qobj data =\n",
      "[[0. ]\n",
      " [1.5]\n",
      " [0. ]\n",
      " [0. ]]\n",
      "Hamiltonian of  2 state=  Quantum object: dims = [[4], [1]], shape = (4, 1), type = ket\n",
      "Qobj data =\n",
      "[[0. ]\n",
      " [0. ]\n",
      " [2.5]\n",
      " [0. ]]\n",
      "Hamiltonian of  3 state=  Quantum object: dims = [[4], [1]], shape = (4, 1), type = ket\n",
      "Qobj data =\n",
      "[[0. ]\n",
      " [0. ]\n",
      " [0. ]\n",
      " [3.5]]\n"
     ]
    }
   ],
   "source": [
    "#Hamiltonian\n",
    "def Hamilt(n):\n",
    "    adag=create(n)\n",
    "    H=adag*destroy(n) + 0.5*qeye(n)\n",
    "    return H\n",
    "Hamilt(4)\n",
    "s0=ket([0],4)\n",
    "print(s0)\n",
    "adag=create(4)\n",
    "def psi(n):\n",
    "\n",
    "    Psi=((adag**n)*s0)/sqrt(math.factorial(n))    #sqrt(math.factorial(n))\n",
    "    return Psi\n",
    "n=int(input(\"Enter the no. of states= \"))\n",
    "for i in range (0,n):\n",
    "    print(\"Hamiltonian of \",i,\"state= \",Hamilt(4)*psi(i))"
   ]
  },
  {
   "cell_type": "markdown",
   "metadata": {},
   "source": [
    "## 2.Symbolic"
   ]
  },
  {
   "cell_type": "code",
   "execution_count": 345,
   "metadata": {},
   "outputs": [
    {
     "ename": "NameError",
     "evalue": "name 'sp' is not defined",
     "output_type": "error",
     "traceback": [
      "\u001b[0;31m---------------------------------------------------------------------------\u001b[0m",
      "\u001b[0;31mNameError\u001b[0m                                 Traceback (most recent call last)",
      "\u001b[0;32m<ipython-input-345-28e1dcc1cdb7>\u001b[0m in \u001b[0;36m<module>\u001b[0;34m\u001b[0m\n\u001b[1;32m      9\u001b[0m \u001b[0mpsi\u001b[0m\u001b[0;34m,\u001b[0m\u001b[0mphi\u001b[0m\u001b[0;34m,\u001b[0m\u001b[0mw\u001b[0m\u001b[0;34m,\u001b[0m\u001b[0mh\u001b[0m\u001b[0;34m=\u001b[0m\u001b[0msymbols\u001b[0m\u001b[0;34m(\u001b[0m\u001b[0;34mr'\\psi \\phi \\omega \\hbar'\u001b[0m\u001b[0;34m)\u001b[0m\u001b[0;34m\u001b[0m\u001b[0m\n\u001b[1;32m     10\u001b[0m \u001b[0mexp\u001b[0m\u001b[0;34m(\u001b[0m\u001b[0;34m(\u001b[0m\u001b[0;34m-\u001b[0m\u001b[0mm\u001b[0m\u001b[0;34m*\u001b[0m\u001b[0mpsi\u001b[0m\u001b[0;34m*\u001b[0m\u001b[0mx\u001b[0m\u001b[0;34m**\u001b[0m\u001b[0;36m2\u001b[0m\u001b[0;34m)\u001b[0m\u001b[0;34m/\u001b[0m\u001b[0;34m(\u001b[0m\u001b[0;36m2\u001b[0m\u001b[0;34m*\u001b[0m\u001b[0mh\u001b[0m\u001b[0;34m)\u001b[0m\u001b[0;34m)\u001b[0m\u001b[0;34m\u001b[0m\u001b[0m\n\u001b[0;32m---> 11\u001b[0;31m \u001b[0mm\u001b[0m\u001b[0;34m=\u001b[0m\u001b[0msp\u001b[0m\u001b[0;34m.\u001b[0m\u001b[0mMatrix\u001b[0m\u001b[0;34m(\u001b[0m\u001b[0;34m[\u001b[0m\u001b[0;34m[\u001b[0m\u001b[0;36m2\u001b[0m\u001b[0;34m,\u001b[0m\u001b[0mm\u001b[0m\u001b[0;34m,\u001b[0m\u001b[0;36m0\u001b[0m\u001b[0;34m]\u001b[0m\u001b[0;34m,\u001b[0m\u001b[0;34m[\u001b[0m\u001b[0mw\u001b[0m\u001b[0;34m,\u001b[0m\u001b[0;36m5\u001b[0m\u001b[0;34m,\u001b[0m\u001b[0;36m2\u001b[0m\u001b[0;34m]\u001b[0m\u001b[0;34m,\u001b[0m\u001b[0;34m[\u001b[0m\u001b[0;36m0\u001b[0m\u001b[0;34m,\u001b[0m\u001b[0;36m0\u001b[0m\u001b[0;34m,\u001b[0m\u001b[0mpsi\u001b[0m\u001b[0;34m]\u001b[0m\u001b[0;34m]\u001b[0m\u001b[0;34m)\u001b[0m\u001b[0;34m\u001b[0m\u001b[0m\n\u001b[0m\u001b[1;32m     12\u001b[0m                                       \u001b[0;31m#M=Qobj(np.matrix([[2,psi,0],[1,phi,1],[0,1,w]]))\u001b[0m\u001b[0;34m\u001b[0m\u001b[0;34m\u001b[0m\u001b[0m\n\u001b[1;32m     13\u001b[0m \u001b[0;34m\u001b[0m\u001b[0m\n",
      "\u001b[0;31mNameError\u001b[0m: name 'sp' is not defined"
     ]
    }
   ],
   "source": [
    "from sympy import *\n",
    "from qutip import *\n",
    "from matplotlib import rc\n",
    "import numpy as np\n",
    "#x,y,psi,phi,omega=symbols('x y \\u03C8 \\u03C6')\n",
    "#\\mathcal{A}\\/\\sin(2 \\omega t)\n",
    "m=Symbol('m')\n",
    "x=Symbol('x')\n",
    "psi,phi,w,h=symbols(r'\\psi \\phi \\omega \\hbar')\n",
    "exp((-m*psi*x**2)/(2*h))\n",
    "m=Matrix([[2,m,0],[w,5,2],[0,0,psi]])\n",
    "                                      #M=Qobj(np.matrix([[2,psi,0],[1,phi,1],[0,1,w]])) \n",
    "\n",
    "                                      #m=np.matrix([[2,m,0],[1,5,w],[0,1,2]])  -NOT POSSIBLE IN NUMPY-NO SYMBOL\n",
    "print(type(m)) \n",
    "\n",
    "\n",
    "#M=Qobj(np.matrix([[2,3,0],[1,5,1],[0,1,2]]))\n",
    "M=Qobj(m)\n",
    "print(type(M))\n",
    "\n",
    "print(M)"
   ]
  },
  {
   "cell_type": "markdown",
   "metadata": {},
   "source": []
  }
 ],
 "metadata": {
  "kernelspec": {
   "display_name": "Python 3",
   "language": "python",
   "name": "python3"
  },
  "language_info": {
   "codemirror_mode": {
    "name": "ipython",
    "version": 3
   },
   "file_extension": ".py",
   "mimetype": "text/x-python",
   "name": "python",
   "nbconvert_exporter": "python",
   "pygments_lexer": "ipython3",
   "version": "3.6.6"
  }
 },
 "nbformat": 4,
 "nbformat_minor": 2
}
