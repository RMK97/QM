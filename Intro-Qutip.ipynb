{
 "cells": [
  {
   "cell_type": "markdown",
   "metadata": {},
   "source": [
    "# 1.Intro to QuTip"
   ]
  },
  {
   "cell_type": "markdown",
   "metadata": {},
   "source": [
    "## 1.1Basic Operators:"
   ]
  },
  {
   "cell_type": "code",
   "execution_count": null,
   "metadata": {},
   "outputs": [],
   "source": [
    "from qutip import *\n",
    "a=basis(5,0)\n",
    "print(\"Basis ket= \",a)\n",
    "\n",
    "print(\"Identity matrix= \\n\",qeye(3))\n",
    "\n",
    "print(\"Lowering (Annihilation) operator= \\n\", destroy(3))\n",
    "print(\"Raising (Creation) operator= \\n\", create(3))\n",
    "\n",
    "print(\"Number operator= \\n\",num(3))\n",
    "\n",
    "print(\"Momentum operator= \\n\",momentum(3))\n",
    "print(\"Position operator= \\n\",position(4))\n"
   ]
  },
  {
   "cell_type": "markdown",
   "metadata": {},
   "source": [
    "## 1.2Basic Computations(1D)-"
   ]
  },
  {
   "cell_type": "code",
   "execution_count": null,
   "metadata": {},
   "outputs": [],
   "source": [
    "from qutip import *\n",
    "import numpy as np\n",
    "\n",
    "#Basic \n",
    "\n",
    "A=Qobj([[1],[0],[-1]])\n",
    "print(A)\n",
    "print(\"Norm of A= \",A.norm())\n",
    "print(\"Transpose= \",A.trans())\n",
    "print(\"A*I= \\n\",A.trans()*qeye(3))\n",
    "\n",
    "B=Qobj([[1],[-5j],[-2],[4j]])\n",
    "print(B)\n",
    "print(\"Dagger(complex conjugate transpose) of B= \",B.dag())\n",
    "print(\"Conjugate of B= \",B.conj())\n",
    "\n",
    "#Creation and Annihilation Operator\n",
    "\n",
    "print(\"Lowering (Annihilation) operator= \\n\", destroy(3))\n",
    "print(\"Annihilation on A=\\n\", A.trans()*destroy(3))\n",
    "print(\"Raising (Creation) operator= \\n\", create(3))\n",
    "print(\"Creation on A=\\n\", A.trans()*create(3))\n",
    "\n",
    "#Position,Momentum,Number Operator\n",
    "\n",
    "print(\"Position on A= \\n\",A.trans()*position(3))\n",
    "print(\"Momentum on A= \\n\",A.trans()*momentum(3))\n",
    "print(\"Number operator= \",A.trans()*num(3))\n",
    "\n",
    "\n"
   ]
  },
  {
   "cell_type": "markdown",
   "metadata": {},
   "source": [
    "## 1.3Basic Computations(2D)-"
   ]
  },
  {
   "cell_type": "code",
   "execution_count": null,
   "metadata": {},
   "outputs": [],
   "source": [
    "from qutip import *\n",
    "import numpy as np\n",
    "\n",
    "#Matrix representation of Qobj\n",
    "X=np.matrix('1,2,1;0,2,1;0,1,-1j')                    #or np.matrix([[1,2,1],[0,2,1]]) \n",
    "print(Qobj(X))\n",
    "Y=np.random.rand(3,2)\n",
    "print(Qobj(Y))"
   ]
  },
  {
   "cell_type": "markdown",
   "metadata": {},
   "source": [
    "## 1.4EigenValues and Eigenvectors-"
   ]
  },
  {
   "cell_type": "code",
   "execution_count": 267,
   "metadata": {},
   "outputs": [
    {
     "name": "stdout",
     "output_type": "stream",
     "text": [
      "<class 'qutip.qobj.Qobj'>\n",
      "Matrix M=  Quantum object: dims = [[3], [3]], shape = (3, 3), type = oper, isherm = True\n",
      "Qobj data =\n",
      "[[2. 1. 0.]\n",
      " [1. 2. 1.]\n",
      " [0. 1. 2.]]\n",
      "Eigenvalues are=  [0.58578644 2.         3.41421356]\n",
      "Eigenvectors= \n",
      " [Quantum object: dims = [[3], [1]], shape = (3, 1), type = ket\n",
      "Qobj data =\n",
      "[[ 0.5       ]\n",
      " [-0.70710678]\n",
      " [ 0.5       ]]\n",
      " Quantum object: dims = [[3], [1]], shape = (3, 1), type = ket\n",
      "Qobj data =\n",
      "[[-0.70710678]\n",
      " [ 0.        ]\n",
      " [ 0.70710678]]\n",
      " Quantum object: dims = [[3], [1]], shape = (3, 1), type = ket\n",
      "Qobj data =\n",
      "[[0.5       ]\n",
      " [0.70710678]\n",
      " [0.5       ]]]\n"
     ]
    }
   ],
   "source": [
    "from qutip import *\n",
    "import numpy as np\n",
    "M=Qobj(np.matrix('2,1,0;1,2,1;0,1,2'))\n",
    "print(type(M))\n",
    "print(\"Matrix M= \",M)\n",
    "EVAL,EVEC=M.eigenstates()\n",
    "print(\"Eigenvalues are= \",EVAL)\n",
    "print(\"Eigenvectors= \\n\",EVEC)\n"
   ]
  },
  {
   "cell_type": "markdown",
   "metadata": {},
   "source": [
    "## 2.Simple Harmonic Oscillator"
   ]
  },
  {
   "cell_type": "markdown",
   "metadata": {},
   "source": [
    "## 2.1 Numerical"
   ]
  },
  {
   "cell_type": "code",
   "execution_count": 121,
   "metadata": {},
   "outputs": [
    {
     "data": {
      "text/latex": [
       "Quantum object: dims = [[4], [1]], shape = (4, 1), type = ket\\begin{equation*}\\left(\\begin{array}{*{11}c}1.0\\\\0.0\\\\0.0\\\\0.0\\\\\\end{array}\\right)\\end{equation*}"
      ],
      "text/plain": [
       "Quantum object: dims = [[4], [1]], shape = (4, 1), type = ket\n",
       "Qobj data =\n",
       "[[1.]\n",
       " [0.]\n",
       " [0.]\n",
       " [0.]]"
      ]
     },
     "execution_count": 121,
     "metadata": {},
     "output_type": "execute_result"
    }
   ],
   "source": [
    "from qutip import *\n",
    "import numpy as np\n",
    "s0=ket([0],4)\n",
    "s0"
   ]
  },
  {
   "cell_type": "code",
   "execution_count": 122,
   "metadata": {},
   "outputs": [
    {
     "data": {
      "text/latex": [
       "Quantum object: dims = [[4], [4]], shape = (4, 4), type = oper, isherm = False\\begin{equation*}\\left(\\begin{array}{*{11}c}0.0 & 0.0 & 0.0 & 0.0\\\\1.0 & 0.0 & 0.0 & 0.0\\\\0.0 & 1.414 & 0.0 & 0.0\\\\0.0 & 0.0 & 1.732 & 0.0\\\\\\end{array}\\right)\\end{equation*}"
      ],
      "text/plain": [
       "Quantum object: dims = [[4], [4]], shape = (4, 4), type = oper, isherm = False\n",
       "Qobj data =\n",
       "[[0.         0.         0.         0.        ]\n",
       " [1.         0.         0.         0.        ]\n",
       " [0.         1.41421356 0.         0.        ]\n",
       " [0.         0.         1.73205081 0.        ]]"
      ]
     },
     "execution_count": 122,
     "metadata": {},
     "output_type": "execute_result"
    }
   ],
   "source": [
    "adag=create(4)\n",
    "adag"
   ]
  },
  {
   "cell_type": "code",
   "execution_count": 188,
   "metadata": {},
   "outputs": [
    {
     "name": "stdout",
     "output_type": "stream",
     "text": [
      "Number operator=  Quantum object: dims = [[4], [4]], shape = (4, 4), type = oper, isherm = True\n",
      "Qobj data =\n",
      "[[0. 0. 0. 0.]\n",
      " [0. 1. 0. 0.]\n",
      " [0. 0. 2. 0.]\n",
      " [0. 0. 0. 3.]]\n"
     ]
    }
   ],
   "source": [
    "adag**2*s0\n",
    "print(\"Number operator= \",adag*destroy(4))"
   ]
  },
  {
   "cell_type": "code",
   "execution_count": 161,
   "metadata": {},
   "outputs": [
    {
     "data": {
      "text/latex": [
       "Quantum object: dims = [[4], [4]], shape = (4, 4), type = oper, isherm = True\\begin{equation*}\\left(\\begin{array}{*{11}c}0.500 & 0.0 & 0.0 & 0.0\\\\0.0 & 1.500 & 0.0 & 0.0\\\\0.0 & 0.0 & 2.500 & 0.0\\\\0.0 & 0.0 & 0.0 & 3.500\\\\\\end{array}\\right)\\end{equation*}"
      ],
      "text/plain": [
       "Quantum object: dims = [[4], [4]], shape = (4, 4), type = oper, isherm = True\n",
       "Qobj data =\n",
       "[[0.5 0.  0.  0. ]\n",
       " [0.  1.5 0.  0. ]\n",
       " [0.  0.  2.5 0. ]\n",
       " [0.  0.  0.  3.5]]"
      ]
     },
     "execution_count": 161,
     "metadata": {},
     "output_type": "execute_result"
    }
   ],
   "source": [
    "H=adag*destroy(4) + 0.5*qeye(4)\n",
    "H"
   ]
  },
  {
   "cell_type": "code",
   "execution_count": 176,
   "metadata": {},
   "outputs": [
    {
     "name": "stdout",
     "output_type": "stream",
     "text": [
      "Quantum object: dims = [[4], [1]], shape = (4, 1), type = ket\n",
      "Qobj data =\n",
      "[[1.]\n",
      " [0.]\n",
      " [0.]\n",
      " [0.]]\n",
      "Enter no. of states= 4\n",
      "Psi_ 0 =  Quantum object: dims = [[4], [1]], shape = (4, 1), type = ket\n",
      "Qobj data =\n",
      "[[1.]\n",
      " [0.]\n",
      " [0.]\n",
      " [0.]]\n",
      "Psi_ 1 =  Quantum object: dims = [[4], [1]], shape = (4, 1), type = ket\n",
      "Qobj data =\n",
      "[[0.]\n",
      " [1.]\n",
      " [0.]\n",
      " [0.]]\n",
      "Psi_ 2 =  Quantum object: dims = [[4], [1]], shape = (4, 1), type = ket\n",
      "Qobj data =\n",
      "[[0.]\n",
      " [0.]\n",
      " [1.]\n",
      " [0.]]\n",
      "Psi_ 3 =  Quantum object: dims = [[4], [1]], shape = (4, 1), type = ket\n",
      "Qobj data =\n",
      "[[0.]\n",
      " [0.]\n",
      " [0.]\n",
      " [1.]]\n"
     ]
    }
   ],
   "source": [
    "#Normalized eigenstate\n",
    "from math import *\n",
    "from qutip import *\n",
    "import numpy as np\n",
    "\n",
    "s0=ket([0],4)\n",
    "print(s0)\n",
    "adag=create(4)\n",
    "def psi(n):\n",
    "\n",
    "    Psi=((adag**n)*s0)/sqrt(math.factorial(n))    #sqrt(math.factorial(n))\n",
    "    return Psi\n",
    "n=int(input(\"Enter no. of states= \"))\n",
    "for i in range(0,n):\n",
    "    print(\"Psi_\",i,\"= \",psi(i))"
   ]
  },
  {
   "cell_type": "markdown",
   "metadata": {},
   "source": [
    "$$ a_{+}\\psi_{n} $$"
   ]
  },
  {
   "cell_type": "code",
   "execution_count": 194,
   "metadata": {},
   "outputs": [
    {
     "name": "stdout",
     "output_type": "stream",
     "text": [
      "Ground state=  Quantum object: dims = [[4], [1]], shape = (4, 1), type = ket\n",
      "Qobj data =\n",
      "[[1.]\n",
      " [0.]\n",
      " [0.]\n",
      " [0.]]\n",
      "a{+} Psi(0)=  Quantum object: dims = [[4], [1]], shape = (4, 1), type = ket\n",
      "Qobj data =\n",
      "[[0.]\n",
      " [1.]\n",
      " [0.]\n",
      " [0.]]\n"
     ]
    }
   ],
   "source": [
    "def cr_psi(n):\n",
    "    Val=psi(n+1)*sqrt(n+1)\n",
    "    return Val\n",
    "print(\"Ground state= \",s0)\n",
    "print(\"a{+} Psi(0)= \",cr_psi(0))"
   ]
  },
  {
   "cell_type": "markdown",
   "metadata": {},
   "source": [
    "$$ a_{-}\\psi_{n} $$"
   ]
  },
  {
   "cell_type": "code",
   "execution_count": 195,
   "metadata": {},
   "outputs": [
    {
     "name": "stdout",
     "output_type": "stream",
     "text": [
      "Ground state=  Quantum object: dims = [[4], [1]], shape = (4, 1), type = ket\n",
      "Qobj data =\n",
      "[[1.]\n",
      " [0.]\n",
      " [0.]\n",
      " [0.]]\n",
      "a{-} Psi(0)=  Quantum object: dims = [[4], [1]], shape = (4, 1), type = ket\n",
      "Qobj data =\n",
      "[[0.        ]\n",
      " [0.        ]\n",
      " [1.73205081]\n",
      " [0.        ]]\n"
     ]
    }
   ],
   "source": [
    "def des_psi(n):\n",
    "    Val=psi(n-1)*sqrt(n)\n",
    "    return Val\n",
    "print(\"Ground state= \",s0)\n",
    "print(\"a{-} Psi(0)= \",des_psi(3))\n"
   ]
  },
  {
   "cell_type": "markdown",
   "metadata": {},
   "source": [
    "## Hamiltonian"
   ]
  },
  {
   "cell_type": "code",
   "execution_count": 178,
   "metadata": {},
   "outputs": [
    {
     "name": "stdout",
     "output_type": "stream",
     "text": [
      "Quantum object: dims = [[4], [1]], shape = (4, 1), type = ket\n",
      "Qobj data =\n",
      "[[1.]\n",
      " [0.]\n",
      " [0.]\n",
      " [0.]]\n",
      "Enter the no. of states= 4\n",
      "Hamiltonian of  0 state=  Quantum object: dims = [[4], [1]], shape = (4, 1), type = ket\n",
      "Qobj data =\n",
      "[[0.5]\n",
      " [0. ]\n",
      " [0. ]\n",
      " [0. ]]\n",
      "Hamiltonian of  1 state=  Quantum object: dims = [[4], [1]], shape = (4, 1), type = ket\n",
      "Qobj data =\n",
      "[[0. ]\n",
      " [1.5]\n",
      " [0. ]\n",
      " [0. ]]\n",
      "Hamiltonian of  2 state=  Quantum object: dims = [[4], [1]], shape = (4, 1), type = ket\n",
      "Qobj data =\n",
      "[[0. ]\n",
      " [0. ]\n",
      " [2.5]\n",
      " [0. ]]\n",
      "Hamiltonian of  3 state=  Quantum object: dims = [[4], [1]], shape = (4, 1), type = ket\n",
      "Qobj data =\n",
      "[[0. ]\n",
      " [0. ]\n",
      " [0. ]\n",
      " [3.5]]\n"
     ]
    }
   ],
   "source": [
    "#Hamiltonian\n",
    "def Hamilt(n):\n",
    "    adag=create(n)\n",
    "    H=adag*destroy(n) + 0.5*qeye(n)\n",
    "    return H\n",
    "Hamilt(4)\n",
    "s0=ket([0],4)\n",
    "print(s0)\n",
    "adag=create(4)\n",
    "def psi(n):\n",
    "\n",
    "    Psi=((adag**n)*s0)/sqrt(math.factorial(n))    #sqrt(math.factorial(n))\n",
    "    return Psi\n",
    "n=int(input(\"Enter the no. of states= \"))\n",
    "for i in range (0,n):\n",
    "    print(\"Hamiltonian of \",i,\"state= \",Hamilt(4)*psi(i))"
   ]
  },
  {
   "cell_type": "markdown",
   "metadata": {},
   "source": [
    "## 2.Symbolic"
   ]
  },
  {
   "cell_type": "code",
   "execution_count": 345,
   "metadata": {},
   "outputs": [
    {
     "ename": "NameError",
     "evalue": "name 'sp' is not defined",
     "output_type": "error",
     "traceback": [
      "\u001b[0;31m---------------------------------------------------------------------------\u001b[0m",
      "\u001b[0;31mNameError\u001b[0m                                 Traceback (most recent call last)",
      "\u001b[0;32m<ipython-input-345-28e1dcc1cdb7>\u001b[0m in \u001b[0;36m<module>\u001b[0;34m\u001b[0m\n\u001b[1;32m      9\u001b[0m \u001b[0mpsi\u001b[0m\u001b[0;34m,\u001b[0m\u001b[0mphi\u001b[0m\u001b[0;34m,\u001b[0m\u001b[0mw\u001b[0m\u001b[0;34m,\u001b[0m\u001b[0mh\u001b[0m\u001b[0;34m=\u001b[0m\u001b[0msymbols\u001b[0m\u001b[0;34m(\u001b[0m\u001b[0;34mr'\\psi \\phi \\omega \\hbar'\u001b[0m\u001b[0;34m)\u001b[0m\u001b[0;34m\u001b[0m\u001b[0m\n\u001b[1;32m     10\u001b[0m \u001b[0mexp\u001b[0m\u001b[0;34m(\u001b[0m\u001b[0;34m(\u001b[0m\u001b[0;34m-\u001b[0m\u001b[0mm\u001b[0m\u001b[0;34m*\u001b[0m\u001b[0mpsi\u001b[0m\u001b[0;34m*\u001b[0m\u001b[0mx\u001b[0m\u001b[0;34m**\u001b[0m\u001b[0;36m2\u001b[0m\u001b[0;34m)\u001b[0m\u001b[0;34m/\u001b[0m\u001b[0;34m(\u001b[0m\u001b[0;36m2\u001b[0m\u001b[0;34m*\u001b[0m\u001b[0mh\u001b[0m\u001b[0;34m)\u001b[0m\u001b[0;34m)\u001b[0m\u001b[0;34m\u001b[0m\u001b[0m\n\u001b[0;32m---> 11\u001b[0;31m \u001b[0mm\u001b[0m\u001b[0;34m=\u001b[0m\u001b[0msp\u001b[0m\u001b[0;34m.\u001b[0m\u001b[0mMatrix\u001b[0m\u001b[0;34m(\u001b[0m\u001b[0;34m[\u001b[0m\u001b[0;34m[\u001b[0m\u001b[0;36m2\u001b[0m\u001b[0;34m,\u001b[0m\u001b[0mm\u001b[0m\u001b[0;34m,\u001b[0m\u001b[0;36m0\u001b[0m\u001b[0;34m]\u001b[0m\u001b[0;34m,\u001b[0m\u001b[0;34m[\u001b[0m\u001b[0mw\u001b[0m\u001b[0;34m,\u001b[0m\u001b[0;36m5\u001b[0m\u001b[0;34m,\u001b[0m\u001b[0;36m2\u001b[0m\u001b[0;34m]\u001b[0m\u001b[0;34m,\u001b[0m\u001b[0;34m[\u001b[0m\u001b[0;36m0\u001b[0m\u001b[0;34m,\u001b[0m\u001b[0;36m0\u001b[0m\u001b[0;34m,\u001b[0m\u001b[0mpsi\u001b[0m\u001b[0;34m]\u001b[0m\u001b[0;34m]\u001b[0m\u001b[0;34m)\u001b[0m\u001b[0;34m\u001b[0m\u001b[0m\n\u001b[0m\u001b[1;32m     12\u001b[0m                                       \u001b[0;31m#M=Qobj(np.matrix([[2,psi,0],[1,phi,1],[0,1,w]]))\u001b[0m\u001b[0;34m\u001b[0m\u001b[0;34m\u001b[0m\u001b[0m\n\u001b[1;32m     13\u001b[0m \u001b[0;34m\u001b[0m\u001b[0m\n",
      "\u001b[0;31mNameError\u001b[0m: name 'sp' is not defined"
     ]
    }
   ],
   "source": [
    "from sympy import *\n",
    "from qutip import *\n",
    "from matplotlib import rc\n",
    "import numpy as np\n",
    "#x,y,psi,phi,omega=symbols('x y \\u03C8 \\u03C6')\n",
    "#\\mathcal{A}\\/\\sin(2 \\omega t)\n",
    "m=Symbol('m')\n",
    "x=Symbol('x')\n",
    "psi,phi,w,h=symbols(r'\\psi \\phi \\omega \\hbar')\n",
    "exp((-m*psi*x**2)/(2*h))\n",
    "m=Matrix([[2,m,0],[w,5,2],[0,0,psi]])\n",
    "                                      #M=Qobj(np.matrix([[2,psi,0],[1,phi,1],[0,1,w]])) \n",
    "\n",
    "                                      #m=np.matrix([[2,m,0],[1,5,w],[0,1,2]])  -NOT POSSIBLE IN NUMPY-NO SYMBOL\n",
    "print(type(m)) \n",
    "\n",
    "\n",
    "#M=Qobj(np.matrix([[2,3,0],[1,5,1],[0,1,2]]))\n",
    "M=Qobj(m)\n",
    "print(type(M))\n",
    "\n",
    "print(M)    \n",
    "#Checking GitHub"
   ]
  },
  {
   "cell_type": "markdown",
   "metadata": {},
   "source": []
  }
 ],
 "metadata": {
  "kernelspec": {
   "display_name": "Python 3",
   "language": "python",
   "name": "python3"
  },
  "language_info": {
   "codemirror_mode": {
    "name": "ipython",
    "version": 3
   },
   "file_extension": ".py",
   "mimetype": "text/x-python",
   "name": "python",
   "nbconvert_exporter": "python",
   "pygments_lexer": "ipython3",
   "version": "3.6.6"
  }
 },
 "nbformat": 4,
 "nbformat_minor": 2
}
