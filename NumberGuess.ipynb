{
 "cells": [
  {
   "cell_type": "code",
   "execution_count": 5,
   "metadata": {},
   "outputs": [],
   "source": [
    "from random import randint\n",
    "from time import sleep"
   ]
  },
  {
   "cell_type": "code",
   "execution_count": 6,
   "metadata": {},
   "outputs": [],
   "source": [
    "def get_user_guess():\n",
    "    guess=int(input(\"Enter your guess:\"))\n",
    "    return guess"
   ]
  },
  {
   "cell_type": "code",
   "execution_count": 7,
   "metadata": {},
   "outputs": [
    {
     "name": "stdout",
     "output_type": "stream",
     "text": [
      "The maximum value is: 10\n",
      "Enter your guess:9\n",
      "Rolling....................\n",
      "The number generated on the first roll of the dice is : 4\n",
      "The number generated on the second roll of the dice is: 4\n",
      "Sum of the numbers generated is: 8\n",
      "Result is..............\n",
      "Sorry! You lost. You made the wrong guess.\n"
     ]
    }
   ],
   "source": [
    "def roll_dice(number_of_sides):\n",
    "    first_roll=randint(1,number_of_sides)\n",
    "    second_roll=randint(1,number_of_sides)\n",
    "    max_val=number_of_sides*2\n",
    "    print (\"The maximum value is: %d\"%max_val)\n",
    "    guess=get_user_guess()\n",
    "    if (guess>max_val):\n",
    "        print (\"Oops!Invalid guess.\")\n",
    "    else:\n",
    "        print (\"Rolling....................\")\n",
    "        sleep(2)\n",
    "        print (\"The number generated on the first roll of the dice is : %d\" %first_roll)\n",
    "        sleep(1)\n",
    "        print (\"The number generated on the second roll of the dice is: %d\"%second_roll)\n",
    "        sleep(1)\n",
    "        total_roll=first_roll+second_roll\n",
    "        print (\"Sum of the numbers generated is: %d\" %total_roll)\n",
    "        print (\"Result is..............\")\n",
    "        sleep(2)\n",
    "        if (guess==total_roll):\n",
    "            print (\"Congrats! Your guess was right.\")\n",
    "        else:\n",
    "            print (\"Sorry! You lost. You made the wrong guess.\")\n",
    "roll_dice(5)            "
   ]
  }
 ],
 "metadata": {
  "kernelspec": {
   "display_name": "Python 3",
   "language": "python",
   "name": "python3"
  },
  "language_info": {
   "codemirror_mode": {
    "name": "ipython",
    "version": 3
   },
   "file_extension": ".py",
   "mimetype": "text/x-python",
   "name": "python",
   "nbconvert_exporter": "python",
   "pygments_lexer": "ipython3",
   "version": "3.7.0"
  }
 },
 "nbformat": 4,
 "nbformat_minor": 2
}
