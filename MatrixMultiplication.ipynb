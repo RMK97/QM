{
 "cells": [
  {
   "cell_type": "code",
   "execution_count": null,
   "metadata": {},
   "outputs": [
    {
     "name": "stdout",
     "output_type": "stream",
     "text": [
      "Enter n for nxn matrix:\n"
     ]
    }
   ],
   "source": [
    "print (\"Enter n for nxn matrix:\")\n",
    "n =int(input())\n",
    "\n",
    "matrix1 = []\n",
    "matrix2 = []\n",
    "\n",
    "print (\"Enter elements of 1st matrix:\")\n",
    "for i in range(0,n):\n",
    "\n",
    "#taking elements column wise\n",
    "    print(\"Enter elements seperated by space: \")\n",
    "    ele=input()\n",
    "    matrix1.append([ele])\n",
    "    print(matrix1)\n",
    "    for j in range(0,n):\n",
    "        matrix1[i].append(0)\n",
    "        print(type(matrix1))\n",
    "map(int,matrix1)\n",
    "\n",
    "\n",
    "print (\"Enter elements of second matrix: \")\n",
    "for i in range(0,n):\n",
    "    \n",
    "    print (\"Enter elements of \",i+1,\"column, seperated by space: \")\n",
    "    matrix2.append(input())\n",
    "    print(type(matrix2))\n",
    "    map(int,matrix2)\n",
    "print (matrix2)\n",
    "\n",
    "multi_matrix = []\n",
    "for i in range(0,n):\n",
    "    a = []\n",
    "    for j in range(0,n):\n",
    "        summ = 0\n",
    "        for k in range(0,n):\n",
    "            summ = summ+(matrix1[i][k]*matrix2[k][j])\n",
    "            a.append(summ)\n",
    "    multi_matrix.append(a)\n",
    "print (\"matrix1 x matrix 2 =\",multi_matrix)"
   ]
  },
  {
   "cell_type": "code",
   "execution_count": 14,
   "metadata": {},
   "outputs": [
    {
     "name": "stdout",
     "output_type": "stream",
     "text": [
      "Enter number of rows in the matrix1: 2\n",
      "Enter number of columns in the matrix1: 2\n",
      "Enter the 2 x 2 matrix: \n",
      "1 4\n",
      "5 6\n",
      "<class 'list'>\n",
      "Matrix 1:  [[1, 4], [5, 6]]\n",
      "Enter number of rows in the matrix2: 2\n",
      "Enter number of columns in the matrix2: 2\n",
      "Enter the 2 x 2 matrix: \n",
      "2 4\n",
      "5 2\n",
      "<class 'list'>\n",
      "Matrix 2:  [[2, 4], [5, 2]]\n",
      "Matrix1 x Matrix 2 = [[2, 22, 4, 12], [10, 40, 20, 32]]\n"
     ]
    }
   ],
   "source": [
    "rows = int(input(\"Enter number of rows in the matrix1: \"))\n",
    "columns = int(input(\"Enter number of columns in the matrix1: \"))\n",
    "matrix1 = []\n",
    "print(\"Enter the %s x %s matrix: \"% (rows, columns))\n",
    "for i in range(rows):\n",
    "    matrix1.append(list(map(int, input().split())))\n",
    "print(type(matrix1))\n",
    "print(\"Matrix 1: \",matrix1)\n",
    "\n",
    "rows = int(input(\"Enter number of rows in the matrix2: \"))\n",
    "columns = int(input(\"Enter number of columns in the matrix2: \"))\n",
    "matrix2 = []\n",
    "print(\"Enter the %s x %s matrix: \"% (rows, columns))\n",
    "for i in range(rows):\n",
    "    matrix2.append(list(map(int, input().split())))\n",
    "print(type(matrix2))\n",
    "print(\"Matrix 2: \",matrix2)\n",
    "\n",
    "#Multiplication\n",
    "multi_matrix=[]\n",
    "for i in range(0,rows):\n",
    "    a = []\n",
    "    for j in range(0,columns):\n",
    "        summ = 0\n",
    "        for k in range(0,rows):\n",
    "            summ = summ+(matrix1[i][k]*matrix2[k][j])\n",
    "            a.append(summ)\n",
    "    multi_matrix.append(a)\n",
    "print (\"Matrix1 x Matrix 2 =\",multi_matrix)\n"
   ]
  }
 ],
 "metadata": {
  "kernelspec": {
   "display_name": "Python 3",
   "language": "python",
   "name": "python3"
  },
  "language_info": {
   "codemirror_mode": {
    "name": "ipython",
    "version": 3
   },
   "file_extension": ".py",
   "mimetype": "text/x-python",
   "name": "python",
   "nbconvert_exporter": "python",
   "pygments_lexer": "ipython3",
   "version": "3.6.6"
  }
 },
 "nbformat": 4,
 "nbformat_minor": 2
}
