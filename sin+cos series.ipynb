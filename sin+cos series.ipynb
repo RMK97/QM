{
 "cells": [
  {
   "cell_type": "code",
   "execution_count": 3,
   "metadata": {},
   "outputs": [
    {
     "name": "stdout",
     "output_type": "stream",
     "text": [
      "Power series expansion of sine series: \n",
      "Enter value of angle x (in degrees)30\n",
      "Enter the value n of the series:10\n",
      "The value of sin 30.0  =  0.49999999999999994\n",
      "0.6931471805599453\n"
     ]
    }
   ],
   "source": [
    "from math import*\n",
    "print (\"Power series expansion of sine series: \")\n",
    "x= float(input(\"Enter value of angle x (in degrees)\"))\n",
    "r=(x*pi)/180\n",
    "n= int(input(\"Enter the value n of the series:\"))\n",
    "y=0\n",
    "for k in range(0,n,1):\n",
    "    y+=((-1)**k*(r**(1+2*k))/factorial(1+2*k))    \n",
    "print(\"The value of sin\",x,\" = \",y)     \n",
    "#print(pow(n,2))\n",
    "#print(log(2,10))"
   ]
  },
  {
   "cell_type": "code",
   "execution_count": 1,
   "metadata": {},
   "outputs": [
    {
     "name": "stdout",
     "output_type": "stream",
     "text": [
      "Power series expansion of cosine series: \n",
      "Enter value of angle x:(in degrees) 60\n",
      "Enter the value n of the series:10\n",
      "The value of cos 60.0  =  0.5000000000000001\n"
     ]
    }
   ],
   "source": [
    "from math import*\n",
    "print (\"Power series expansion of cosine series: \")\n",
    "x= float(input(\"Enter value of angle x:(in degrees) \"))\n",
    "r=(x*pi)/180\n",
    "n= int(input(\"Enter the value n of the series:\"))\n",
    "y=0\n",
    "for k in range(0,n,1):\n",
    "    y+=((-1)**k*(r**(2*k))/factorial(2*k))\n",
    "print(\"The value of cos\",x,\" = \",y)    "
   ]
  },
  {
   "cell_type": "code",
   "execution_count": null,
   "metadata": {},
   "outputs": [],
   "source": []
  }
 ],
 "metadata": {
  "kernelspec": {
   "display_name": "Python 3",
   "language": "python",
   "name": "python3"
  },
  "language_info": {
   "codemirror_mode": {
    "name": "ipython",
    "version": 3
   },
   "file_extension": ".py",
   "mimetype": "text/x-python",
   "name": "python",
   "nbconvert_exporter": "python",
   "pygments_lexer": "ipython3",
   "version": "3.6.6"
  }
 },
 "nbformat": 4,
 "nbformat_minor": 2
}
